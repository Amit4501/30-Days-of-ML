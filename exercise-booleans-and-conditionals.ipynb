{
 "cells": [
  {
   "cell_type": "markdown",
   "id": "7613e2de",
   "metadata": {
    "papermill": {
     "duration": 0.021846,
     "end_time": "2021-08-06T07:52:09.362149",
     "exception": false,
     "start_time": "2021-08-06T07:52:09.340303",
     "status": "completed"
    },
    "tags": []
   },
   "source": [
    "**This notebook is an exercise in the [Python](https://www.kaggle.com/learn/python) course.  You can reference the tutorial at [this link](https://www.kaggle.com/colinmorris/booleans-and-conditionals).**\n",
    "\n",
    "---\n"
   ]
  },
  {
   "cell_type": "markdown",
   "id": "62c983f4",
   "metadata": {
    "papermill": {
     "duration": 0.020129,
     "end_time": "2021-08-06T07:52:09.405469",
     "exception": false,
     "start_time": "2021-08-06T07:52:09.385340",
     "status": "completed"
    },
    "tags": []
   },
   "source": [
    "In this exercise, you'll put to work what you have learned about booleans and conditionals.\n",
    "\n",
    "To get started, **run the setup code below** before writing your own code (and if you leave this notebook and come back later, don't forget to run the setup code again)."
   ]
  },
  {
   "cell_type": "code",
   "execution_count": 1,
   "id": "63e9345d",
   "metadata": {
    "execution": {
     "iopub.execute_input": "2021-08-06T07:52:09.455473Z",
     "iopub.status.busy": "2021-08-06T07:52:09.450633Z",
     "iopub.status.idle": "2021-08-06T07:52:09.585484Z",
     "shell.execute_reply": "2021-08-06T07:52:09.584384Z",
     "shell.execute_reply.started": "2021-08-06T07:17:20.760990Z"
    },
    "papermill": {
     "duration": 0.159602,
     "end_time": "2021-08-06T07:52:09.585661",
     "exception": false,
     "start_time": "2021-08-06T07:52:09.426059",
     "status": "completed"
    },
    "tags": []
   },
   "outputs": [
    {
     "name": "stdout",
     "output_type": "stream",
     "text": [
      "Setup complete.\n"
     ]
    }
   ],
   "source": [
    "from learntools.core import binder; binder.bind(globals())\n",
    "from learntools.python.ex3 import *\n",
    "print('Setup complete.')"
   ]
  },
  {
   "cell_type": "markdown",
   "id": "fbb05587",
   "metadata": {
    "papermill": {
     "duration": 0.020414,
     "end_time": "2021-08-06T07:52:09.627025",
     "exception": false,
     "start_time": "2021-08-06T07:52:09.606611",
     "status": "completed"
    },
    "tags": []
   },
   "source": [
    "# 1.\n",
    "\n",
    "Many programming languages have [`sign`](https://en.wikipedia.org/wiki/Sign_function) available as a built-in function. Python doesn't, but we can define our own!\n",
    "\n",
    "In the cell below, define a function called `sign` which takes a numerical argument and returns -1 if it's negative, 1 if it's positive, and 0 if it's 0."
   ]
  },
  {
   "cell_type": "code",
   "execution_count": 2,
   "id": "35f7d70f",
   "metadata": {
    "execution": {
     "iopub.execute_input": "2021-08-06T07:52:09.675914Z",
     "iopub.status.busy": "2021-08-06T07:52:09.675269Z",
     "iopub.status.idle": "2021-08-06T07:52:09.682048Z",
     "shell.execute_reply": "2021-08-06T07:52:09.682477Z",
     "shell.execute_reply.started": "2021-08-06T07:20:35.489895Z"
    },
    "papermill": {
     "duration": 0.034936,
     "end_time": "2021-08-06T07:52:09.682633",
     "exception": false,
     "start_time": "2021-08-06T07:52:09.647697",
     "status": "completed"
    },
    "tags": []
   },
   "outputs": [
    {
     "data": {
      "application/javascript": [
       "parent.postMessage({\"jupyterEvent\": \"custom.exercise_interaction\", \"data\": {\"outcomeType\": 1, \"valueTowardsCompletion\": 0.2, \"interactionType\": 1, \"questionType\": 2, \"questionId\": \"1_SignFunctionProblem\", \"learnToolsVersion\": \"0.3.4\", \"failureMessage\": \"\", \"exceptionClass\": \"\", \"trace\": \"\"}}, \"*\")"
      ],
      "text/plain": [
       "<IPython.core.display.Javascript object>"
      ]
     },
     "metadata": {},
     "output_type": "display_data"
    },
    {
     "data": {
      "text/markdown": [
       "<span style=\"color:#33cc33\">Correct</span>"
      ],
      "text/plain": [
       "Correct"
      ]
     },
     "metadata": {},
     "output_type": "display_data"
    }
   ],
   "source": [
    "# Your code goes here. Define a function called 'sign'\n",
    "def sign(num):\n",
    "    if num < 0:\n",
    "        return -1\n",
    "    elif num > 0:\n",
    "        return 1\n",
    "    else:\n",
    "        num == 0\n",
    "        return 0\n",
    "sign(-12)\n",
    "sign(12)\n",
    "sign(0)\n",
    "\n",
    "# Check your answer\n",
    "q1.check()"
   ]
  },
  {
   "cell_type": "code",
   "execution_count": 3,
   "id": "7c18a43f",
   "metadata": {
    "execution": {
     "iopub.execute_input": "2021-08-06T07:52:09.730954Z",
     "iopub.status.busy": "2021-08-06T07:52:09.730082Z",
     "iopub.status.idle": "2021-08-06T07:52:09.733171Z",
     "shell.execute_reply": "2021-08-06T07:52:09.732698Z"
    },
    "papermill": {
     "duration": 0.029084,
     "end_time": "2021-08-06T07:52:09.733301",
     "exception": false,
     "start_time": "2021-08-06T07:52:09.704217",
     "status": "completed"
    },
    "tags": []
   },
   "outputs": [],
   "source": [
    "#q1.solution()"
   ]
  },
  {
   "cell_type": "markdown",
   "id": "fdc74787",
   "metadata": {
    "papermill": {
     "duration": 0.020887,
     "end_time": "2021-08-06T07:52:09.775727",
     "exception": false,
     "start_time": "2021-08-06T07:52:09.754840",
     "status": "completed"
    },
    "tags": []
   },
   "source": [
    "# 2.\n",
    "\n",
    "We've decided to add \"logging\" to our `to_smash` function from the previous exercise."
   ]
  },
  {
   "cell_type": "code",
   "execution_count": 4,
   "id": "83e83eb2",
   "metadata": {
    "execution": {
     "iopub.execute_input": "2021-08-06T07:52:09.824730Z",
     "iopub.status.busy": "2021-08-06T07:52:09.823954Z",
     "iopub.status.idle": "2021-08-06T07:52:09.828948Z",
     "shell.execute_reply": "2021-08-06T07:52:09.828284Z",
     "shell.execute_reply.started": "2021-08-06T07:28:30.814131Z"
    },
    "papermill": {
     "duration": 0.031984,
     "end_time": "2021-08-06T07:52:09.829124",
     "exception": false,
     "start_time": "2021-08-06T07:52:09.797140",
     "status": "completed"
    },
    "tags": []
   },
   "outputs": [
    {
     "name": "stdout",
     "output_type": "stream",
     "text": [
      "Splitting 91 candies\n"
     ]
    }
   ],
   "source": [
    "import logging\n",
    "\n",
    "logging.basicConfig(filename=\"newfile.log\",\n",
    "\t\t\t\t\tformat='%(asctime)s %(message)s',\n",
    "\t\t\t\t\tfilemode='w')\n",
    "\n",
    "logger=logging.getLogger()\n",
    "\n",
    "logger.setLevel(logging.DEBUG)\n",
    "\n",
    "def to_smash(total_candies):\n",
    "    \"\"\"Return the number of leftover candies that must be smashed after distributing\n",
    "    the given number of candies evenly between 3 friends.\n",
    "    \n",
    "    >>> to_smash(91)\n",
    "    1\n",
    "    \"\"\"\n",
    "    print(\"Splitting\", total_candies, \"candies\")\n",
    "    return total_candies % 3\n",
    "\n",
    "logger.debug(to_smash(91))"
   ]
  },
  {
   "cell_type": "markdown",
   "id": "4b4931f1",
   "metadata": {
    "papermill": {
     "duration": 0.021527,
     "end_time": "2021-08-06T07:52:09.873238",
     "exception": false,
     "start_time": "2021-08-06T07:52:09.851711",
     "status": "completed"
    },
    "tags": []
   },
   "source": [
    "What happens if we call it with `total_candies = 1`?"
   ]
  },
  {
   "cell_type": "code",
   "execution_count": 5,
   "id": "383f31a8",
   "metadata": {
    "execution": {
     "iopub.execute_input": "2021-08-06T07:52:09.922391Z",
     "iopub.status.busy": "2021-08-06T07:52:09.921746Z",
     "iopub.status.idle": "2021-08-06T07:52:09.924452Z",
     "shell.execute_reply": "2021-08-06T07:52:09.923905Z",
     "shell.execute_reply.started": "2021-08-06T07:29:39.318750Z"
    },
    "papermill": {
     "duration": 0.028529,
     "end_time": "2021-08-06T07:52:09.924577",
     "exception": false,
     "start_time": "2021-08-06T07:52:09.896048",
     "status": "completed"
    },
    "tags": []
   },
   "outputs": [],
   "source": [
    "def to_smash(total_candies):\n",
    "    if total_candies == 1:\n",
    "        print(\"Splitting 1 candy\")\n",
    "    else:      \n",
    "        print(\"Splitting\", total_candies, \"candy\" if total_candies == 1 else \"candies\")\n"
   ]
  },
  {
   "cell_type": "markdown",
   "id": "369dc649",
   "metadata": {
    "papermill": {
     "duration": 0.021373,
     "end_time": "2021-08-06T07:52:09.967900",
     "exception": false,
     "start_time": "2021-08-06T07:52:09.946527",
     "status": "completed"
    },
    "tags": []
   },
   "source": [
    "That isn't great grammar!\n",
    "\n",
    "Modify the definition in the cell below to correct the grammar of our print statement. (If there's only one candy, we should use the singular \"candy\" instead of the plural \"candies\")"
   ]
  },
  {
   "cell_type": "code",
   "execution_count": 6,
   "id": "01ad5e66",
   "metadata": {
    "execution": {
     "iopub.execute_input": "2021-08-06T07:52:10.014099Z",
     "iopub.status.busy": "2021-08-06T07:52:10.013499Z",
     "iopub.status.idle": "2021-08-06T07:52:10.020276Z",
     "shell.execute_reply": "2021-08-06T07:52:10.020742Z"
    },
    "papermill": {
     "duration": 0.03136,
     "end_time": "2021-08-06T07:52:10.020917",
     "exception": false,
     "start_time": "2021-08-06T07:52:09.989557",
     "status": "completed"
    },
    "tags": []
   },
   "outputs": [
    {
     "name": "stdout",
     "output_type": "stream",
     "text": [
      "Splitting 91 candies\n",
      "Splitting 1 candies\n"
     ]
    },
    {
     "data": {
      "text/plain": [
       "1"
      ]
     },
     "execution_count": 6,
     "metadata": {},
     "output_type": "execute_result"
    }
   ],
   "source": [
    "def to_smash(total_candies):\n",
    "    \"\"\"Return the number of leftover candies that must be smashed after distributing\n",
    "    the given number of candies evenly between 3 friends.\n",
    "    \n",
    "    >>> to_smash(91)\n",
    "    1\n",
    "    \"\"\"\n",
    "    print(\"Splitting\", total_candies, \"candies\")\n",
    "    return total_candies % 3\n",
    "    \n",
    "to_smash(91)\n",
    "to_smash(1)"
   ]
  },
  {
   "cell_type": "markdown",
   "id": "381c1f32",
   "metadata": {
    "papermill": {
     "duration": 0.022138,
     "end_time": "2021-08-06T07:52:10.065791",
     "exception": false,
     "start_time": "2021-08-06T07:52:10.043653",
     "status": "completed"
    },
    "tags": []
   },
   "source": [
    "To get credit for completing this problem, and to see the official answer, run the code cell below."
   ]
  },
  {
   "cell_type": "code",
   "execution_count": 7,
   "id": "49d35d0a",
   "metadata": {
    "execution": {
     "iopub.execute_input": "2021-08-06T07:52:10.113179Z",
     "iopub.status.busy": "2021-08-06T07:52:10.112582Z",
     "iopub.status.idle": "2021-08-06T07:52:10.118303Z",
     "shell.execute_reply": "2021-08-06T07:52:10.118756Z",
     "shell.execute_reply.started": "2021-08-06T07:21:00.558789Z"
    },
    "papermill": {
     "duration": 0.030892,
     "end_time": "2021-08-06T07:52:10.118926",
     "exception": false,
     "start_time": "2021-08-06T07:52:10.088034",
     "status": "completed"
    },
    "tags": []
   },
   "outputs": [
    {
     "data": {
      "application/javascript": [
       "parent.postMessage({\"jupyterEvent\": \"custom.exercise_interaction\", \"data\": {\"interactionType\": 3, \"questionType\": 4, \"questionId\": \"2_PluralizationProblem\", \"learnToolsVersion\": \"0.3.4\", \"valueTowardsCompletion\": 0.0, \"failureMessage\": \"\", \"exceptionClass\": \"\", \"trace\": \"\", \"outcomeType\": 4}}, \"*\")"
      ],
      "text/plain": [
       "<IPython.core.display.Javascript object>"
      ]
     },
     "metadata": {},
     "output_type": "display_data"
    },
    {
     "data": {
      "text/markdown": [
       "<span style=\"color:#33cc99\">Solution:</span> A straightforward (and totally fine) solution is to replace the original `print` call with:\n",
       "\n",
       "```python\n",
       "if total_candies == 1:\n",
       "    print(\"Splitting 1 candy\")\n",
       "else:\n",
       "    print(\"Splitting\", total_candies, \"candies\")\n",
       "```\n",
       "\n",
       "Here's a slightly more succinct solution using a conditional expression:\n",
       "\n",
       "```python\n",
       "print(\"Splitting\", total_candies, \"candy\" if total_candies == 1 else \"candies\")\n",
       "```"
      ],
      "text/plain": [
       "Solution: A straightforward (and totally fine) solution is to replace the original `print` call with:\n",
       "\n",
       "```python\n",
       "if total_candies == 1:\n",
       "    print(\"Splitting 1 candy\")\n",
       "else:\n",
       "    print(\"Splitting\", total_candies, \"candies\")\n",
       "```\n",
       "\n",
       "Here's a slightly more succinct solution using a conditional expression:\n",
       "\n",
       "```python\n",
       "print(\"Splitting\", total_candies, \"candy\" if total_candies == 1 else \"candies\")\n",
       "```"
      ]
     },
     "metadata": {},
     "output_type": "display_data"
    }
   ],
   "source": [
    "# Check your answer (Run this code cell to receive credit!)\n",
    "q2.solution()"
   ]
  },
  {
   "cell_type": "markdown",
   "id": "3a749b86",
   "metadata": {
    "papermill": {
     "duration": 0.023229,
     "end_time": "2021-08-06T07:52:10.166095",
     "exception": false,
     "start_time": "2021-08-06T07:52:10.142866",
     "status": "completed"
    },
    "tags": []
   },
   "source": [
    "# 3. <span title=\"A bit spicy\" style=\"color: darkgreen \">🌶️</span>\n",
    "\n",
    "In the tutorial, we talked about deciding whether we're prepared for the weather. I said that I'm safe from today's weather if...\n",
    "- I have an umbrella...\n",
    "- or if the rain isn't too heavy and I have a hood...\n",
    "- otherwise, I'm still fine unless it's raining *and* it's a workday\n",
    "\n",
    "The function below uses our first attempt at turning this logic into a Python expression. I claimed that there was a bug in that code. Can you find it?\n",
    "\n",
    "To prove that `prepared_for_weather` is buggy, come up with a set of inputs where either:\n",
    "- the function returns `False` (but should have returned `True`), or\n",
    "- the function returned `True` (but should have returned `False`).\n",
    "\n",
    "To get credit for completing this question, your code should return a <font color='#33cc33'>Correct</font> result."
   ]
  },
  {
   "cell_type": "code",
   "execution_count": 8,
   "id": "49fc8f30",
   "metadata": {
    "execution": {
     "iopub.execute_input": "2021-08-06T07:52:10.216080Z",
     "iopub.status.busy": "2021-08-06T07:52:10.215460Z",
     "iopub.status.idle": "2021-08-06T07:52:10.223245Z",
     "shell.execute_reply": "2021-08-06T07:52:10.223695Z",
     "shell.execute_reply.started": "2021-08-06T07:36:41.039418Z"
    },
    "papermill": {
     "duration": 0.034637,
     "end_time": "2021-08-06T07:52:10.223869",
     "exception": false,
     "start_time": "2021-08-06T07:52:10.189232",
     "status": "completed"
    },
    "tags": []
   },
   "outputs": [
    {
     "name": "stdout",
     "output_type": "stream",
     "text": [
      "False\n"
     ]
    },
    {
     "data": {
      "application/javascript": [
       "parent.postMessage({\"jupyterEvent\": \"custom.exercise_interaction\", \"data\": {\"outcomeType\": 1, \"valueTowardsCompletion\": 0.2, \"interactionType\": 1, \"questionType\": 1, \"questionId\": \"3_WeatherDebug\", \"learnToolsVersion\": \"0.3.4\", \"failureMessage\": \"\", \"exceptionClass\": \"\", \"trace\": \"\"}}, \"*\")"
      ],
      "text/plain": [
       "<IPython.core.display.Javascript object>"
      ]
     },
     "metadata": {},
     "output_type": "display_data"
    },
    {
     "data": {
      "text/markdown": [
       "<span style=\"color:#33cc33\">Correct:</span> \n",
       "\n",
       "One example of a failing test case is:\n",
       "\n",
       "```python\n",
       "have_umbrella = False\n",
       "rain_level = 0.0\n",
       "have_hood = False\n",
       "is_workday = False\n",
       "```\n",
       "\n",
       "Clearly we're prepared for the weather in this case. It's not raining. Not only that, it's not a workday, so we don't even need to leave the house! But our function will return False on these inputs.\n",
       "\n",
       "The key problem is that Python implictly parenthesizes the last part as:\n",
       "\n",
       "```python\n",
       "(not (rain_level > 0)) and is_workday\n",
       "```\n",
       "\n",
       "Whereas what we were trying to express would look more like:\n",
       "\n",
       "```python\n",
       "not (rain_level > 0 and is_workday)\n",
       "```\n"
      ],
      "text/plain": [
       "Correct: \n",
       "\n",
       "One example of a failing test case is:\n",
       "\n",
       "```python\n",
       "have_umbrella = False\n",
       "rain_level = 0.0\n",
       "have_hood = False\n",
       "is_workday = False\n",
       "```\n",
       "\n",
       "Clearly we're prepared for the weather in this case. It's not raining. Not only that, it's not a workday, so we don't even need to leave the house! But our function will return False on these inputs.\n",
       "\n",
       "The key problem is that Python implictly parenthesizes the last part as:\n",
       "\n",
       "```python\n",
       "(not (rain_level > 0)) and is_workday\n",
       "```\n",
       "\n",
       "Whereas what we were trying to express would look more like:\n",
       "\n",
       "```python\n",
       "not (rain_level > 0 and is_workday)\n",
       "```"
      ]
     },
     "metadata": {},
     "output_type": "display_data"
    }
   ],
   "source": [
    "def prepared_for_weather(have_umbrella, rain_level, have_hood, is_workday):\n",
    "    # Don't change this code. Our goal is just to find the bug, not fix it!\n",
    "    return have_umbrella or rain_level < 5 and have_hood or not rain_level > 0 and is_workday\n",
    "\n",
    "# Change the values of these inputs so they represent a case where prepared_for_weather\n",
    "# returns the wrong answer.\n",
    "have_umbrella = False\n",
    "rain_level = 0.0\n",
    "have_hood = False\n",
    "is_workday = False\n",
    "\n",
    "# Check what the function returns given the current values of the variables above\n",
    "actual = prepared_for_weather(have_umbrella, rain_level, have_hood, is_workday)\n",
    "print(actual)\n",
    "\n",
    "# Check your answer\n",
    "q3.check()"
   ]
  },
  {
   "cell_type": "code",
   "execution_count": 9,
   "id": "e3740f46",
   "metadata": {
    "execution": {
     "iopub.execute_input": "2021-08-06T07:52:10.274669Z",
     "iopub.status.busy": "2021-08-06T07:52:10.274133Z",
     "iopub.status.idle": "2021-08-06T07:52:10.276946Z",
     "shell.execute_reply": "2021-08-06T07:52:10.277365Z",
     "shell.execute_reply.started": "2021-08-06T07:36:49.924413Z"
    },
    "papermill": {
     "duration": 0.02956,
     "end_time": "2021-08-06T07:52:10.277511",
     "exception": false,
     "start_time": "2021-08-06T07:52:10.247951",
     "status": "completed"
    },
    "tags": []
   },
   "outputs": [],
   "source": [
    "#q3.hint()\n",
    "#q3.solution()"
   ]
  },
  {
   "cell_type": "markdown",
   "id": "c89c9f41",
   "metadata": {
    "papermill": {
     "duration": 0.023646,
     "end_time": "2021-08-06T07:52:10.325963",
     "exception": false,
     "start_time": "2021-08-06T07:52:10.302317",
     "status": "completed"
    },
    "tags": []
   },
   "source": [
    "# 4.\n",
    "\n",
    "The function `is_negative` below is implemented correctly - it returns True if the given number is negative and False otherwise.\n",
    "\n",
    "However, it's more verbose than it needs to be. We can actually reduce the number of lines of code in this function by *75%* while keeping the same behaviour. \n",
    "\n",
    "See if you can come up with an equivalent body that uses just **one line** of code, and put it in the function `concise_is_negative`. (HINT: you don't even need Python's ternary syntax)"
   ]
  },
  {
   "cell_type": "code",
   "execution_count": 10,
   "id": "0f9224c0",
   "metadata": {
    "execution": {
     "iopub.execute_input": "2021-08-06T07:52:10.376548Z",
     "iopub.status.busy": "2021-08-06T07:52:10.376013Z",
     "iopub.status.idle": "2021-08-06T07:52:10.382134Z",
     "shell.execute_reply": "2021-08-06T07:52:10.382559Z",
     "shell.execute_reply.started": "2021-08-06T07:41:14.209836Z"
    },
    "papermill": {
     "duration": 0.032739,
     "end_time": "2021-08-06T07:52:10.382715",
     "exception": false,
     "start_time": "2021-08-06T07:52:10.349976",
     "status": "completed"
    },
    "tags": []
   },
   "outputs": [
    {
     "data": {
      "application/javascript": [
       "parent.postMessage({\"jupyterEvent\": \"custom.exercise_interaction\", \"data\": {\"outcomeType\": 1, \"valueTowardsCompletion\": 0.2, \"interactionType\": 1, \"questionType\": 2, \"questionId\": \"4_ConciseIsNegative\", \"learnToolsVersion\": \"0.3.4\", \"failureMessage\": \"\", \"exceptionClass\": \"\", \"trace\": \"\"}}, \"*\")"
      ],
      "text/plain": [
       "<IPython.core.display.Javascript object>"
      ]
     },
     "metadata": {},
     "output_type": "display_data"
    },
    {
     "data": {
      "text/markdown": [
       "<span style=\"color:#33cc33\">Correct</span>"
      ],
      "text/plain": [
       "Correct"
      ]
     },
     "metadata": {},
     "output_type": "display_data"
    }
   ],
   "source": [
    "def is_negative(number):\n",
    "    if number < 0:\n",
    "        return True\n",
    "    else:\n",
    "        return False\n",
    "\n",
    "def concise_is_negative(number):\n",
    "    return number < 0\n",
    "\n",
    "concise_is_negative(-1)\n",
    "# Check your answer\n",
    "q4.check()\n"
   ]
  },
  {
   "cell_type": "code",
   "execution_count": 11,
   "id": "acc495d4",
   "metadata": {
    "execution": {
     "iopub.execute_input": "2021-08-06T07:52:10.436064Z",
     "iopub.status.busy": "2021-08-06T07:52:10.435464Z",
     "iopub.status.idle": "2021-08-06T07:52:10.438298Z",
     "shell.execute_reply": "2021-08-06T07:52:10.438714Z",
     "shell.execute_reply.started": "2021-08-06T07:41:20.464476Z"
    },
    "papermill": {
     "duration": 0.03109,
     "end_time": "2021-08-06T07:52:10.438883",
     "exception": false,
     "start_time": "2021-08-06T07:52:10.407793",
     "status": "completed"
    },
    "tags": []
   },
   "outputs": [],
   "source": [
    "#q4.hint()\n",
    "#q4.solution()"
   ]
  },
  {
   "cell_type": "markdown",
   "id": "81779d71",
   "metadata": {
    "papermill": {
     "duration": 0.024592,
     "end_time": "2021-08-06T07:52:10.488562",
     "exception": false,
     "start_time": "2021-08-06T07:52:10.463970",
     "status": "completed"
    },
    "tags": []
   },
   "source": [
    "# 5a.\n",
    "\n",
    "The boolean variables `ketchup`, `mustard` and `onion` represent whether a customer wants a particular topping on their hot dog. We want to implement a number of boolean functions that correspond to some yes-or-no questions about the customer's order. For example:"
   ]
  },
  {
   "cell_type": "code",
   "execution_count": 12,
   "id": "d512db07",
   "metadata": {
    "execution": {
     "iopub.execute_input": "2021-08-06T07:52:10.541423Z",
     "iopub.status.busy": "2021-08-06T07:52:10.540812Z",
     "iopub.status.idle": "2021-08-06T07:52:10.544754Z",
     "shell.execute_reply": "2021-08-06T07:52:10.545263Z",
     "shell.execute_reply.started": "2021-08-06T07:43:56.889168Z"
    },
    "papermill": {
     "duration": 0.031906,
     "end_time": "2021-08-06T07:52:10.545428",
     "exception": false,
     "start_time": "2021-08-06T07:52:10.513522",
     "status": "completed"
    },
    "tags": []
   },
   "outputs": [],
   "source": [
    "def onionless(ketchup, mustard, onion):\n",
    "    \"\"\"Return whether the customer doesn't want onions.\n",
    "    \"\"\"\n",
    "    return not onion"
   ]
  },
  {
   "cell_type": "code",
   "execution_count": 13,
   "id": "5d501a44",
   "metadata": {
    "execution": {
     "iopub.execute_input": "2021-08-06T07:52:10.605825Z",
     "iopub.status.busy": "2021-08-06T07:52:10.605055Z",
     "iopub.status.idle": "2021-08-06T07:52:10.610835Z",
     "shell.execute_reply": "2021-08-06T07:52:10.611283Z",
     "shell.execute_reply.started": "2021-08-06T07:44:37.965213Z"
    },
    "papermill": {
     "duration": 0.040744,
     "end_time": "2021-08-06T07:52:10.611504",
     "exception": false,
     "start_time": "2021-08-06T07:52:10.570760",
     "status": "completed"
    },
    "tags": []
   },
   "outputs": [
    {
     "data": {
      "application/javascript": [
       "parent.postMessage({\"jupyterEvent\": \"custom.exercise_interaction\", \"data\": {\"outcomeType\": 1, \"valueTowardsCompletion\": 0.2, \"interactionType\": 1, \"questionType\": 2, \"questionId\": \"5.1_AllToppings\", \"learnToolsVersion\": \"0.3.4\", \"failureMessage\": \"\", \"exceptionClass\": \"\", \"trace\": \"\"}}, \"*\")"
      ],
      "text/plain": [
       "<IPython.core.display.Javascript object>"
      ]
     },
     "metadata": {},
     "output_type": "display_data"
    },
    {
     "data": {
      "text/markdown": [
       "<span style=\"color:#33cc33\">Correct</span>"
      ],
      "text/plain": [
       "Correct"
      ]
     },
     "metadata": {},
     "output_type": "display_data"
    }
   ],
   "source": [
    "def wants_all_toppings(ketchup, mustard, onion):\n",
    "    \"\"\"Return whether the customer wants \"the works\" (all 3 toppings)\n",
    "    \"\"\"\n",
    "    \n",
    "    return ketchup and mustard and onion\n",
    "\n",
    "# Check your answer\n",
    "q5.a.check()"
   ]
  },
  {
   "cell_type": "code",
   "execution_count": 14,
   "id": "dc199a31",
   "metadata": {
    "execution": {
     "iopub.execute_input": "2021-08-06T07:52:10.678273Z",
     "iopub.status.busy": "2021-08-06T07:52:10.677680Z",
     "iopub.status.idle": "2021-08-06T07:52:10.680152Z",
     "shell.execute_reply": "2021-08-06T07:52:10.680571Z",
     "shell.execute_reply.started": "2021-08-06T07:44:35.036233Z"
    },
    "papermill": {
     "duration": 0.038436,
     "end_time": "2021-08-06T07:52:10.680735",
     "exception": false,
     "start_time": "2021-08-06T07:52:10.642299",
     "status": "completed"
    },
    "tags": []
   },
   "outputs": [],
   "source": [
    "#q5.a.hint()\n",
    "#q5.a.solution()"
   ]
  },
  {
   "cell_type": "markdown",
   "id": "406efe5f",
   "metadata": {
    "papermill": {
     "duration": 0.025432,
     "end_time": "2021-08-06T07:52:10.731873",
     "exception": false,
     "start_time": "2021-08-06T07:52:10.706441",
     "status": "completed"
    },
    "tags": []
   },
   "source": [
    "# 5b.\n",
    "\n",
    "For the next function, fill in the body to match the English description in the docstring. "
   ]
  },
  {
   "cell_type": "code",
   "execution_count": 15,
   "id": "4cc25c62",
   "metadata": {
    "execution": {
     "iopub.execute_input": "2021-08-06T07:52:10.788872Z",
     "iopub.status.busy": "2021-08-06T07:52:10.788210Z",
     "iopub.status.idle": "2021-08-06T07:52:10.793817Z",
     "shell.execute_reply": "2021-08-06T07:52:10.793379Z",
     "shell.execute_reply.started": "2021-08-06T07:45:20.095762Z"
    },
    "papermill": {
     "duration": 0.036096,
     "end_time": "2021-08-06T07:52:10.793957",
     "exception": false,
     "start_time": "2021-08-06T07:52:10.757861",
     "status": "completed"
    },
    "tags": []
   },
   "outputs": [
    {
     "data": {
      "application/javascript": [
       "parent.postMessage({\"jupyterEvent\": \"custom.exercise_interaction\", \"data\": {\"outcomeType\": 1, \"valueTowardsCompletion\": 0.2, \"interactionType\": 1, \"questionType\": 2, \"questionId\": \"5.2_PlainDog\", \"learnToolsVersion\": \"0.3.4\", \"failureMessage\": \"\", \"exceptionClass\": \"\", \"trace\": \"\"}}, \"*\")"
      ],
      "text/plain": [
       "<IPython.core.display.Javascript object>"
      ]
     },
     "metadata": {},
     "output_type": "display_data"
    },
    {
     "data": {
      "text/markdown": [
       "<span style=\"color:#33cc33\">Correct:</span> \n",
       "\n",
       "One solution looks like:\n",
       "```python\n",
       "return not ketchup and not mustard and not onion\n",
       "```\n",
       "\n",
       "We can also [\"factor out\" the nots](https://en.wikipedia.org/wiki/De_Morgan%27s_laws) to get:\n",
       "\n",
       "```python\n",
       "return not (ketchup or mustard or onion)\n",
       "```"
      ],
      "text/plain": [
       "Correct: \n",
       "\n",
       "One solution looks like:\n",
       "```python\n",
       "return not ketchup and not mustard and not onion\n",
       "```\n",
       "\n",
       "We can also [\"factor out\" the nots](https://en.wikipedia.org/wiki/De_Morgan%27s_laws) to get:\n",
       "\n",
       "```python\n",
       "return not (ketchup or mustard or onion)\n",
       "```"
      ]
     },
     "metadata": {},
     "output_type": "display_data"
    }
   ],
   "source": [
    "def wants_plain_hotdog(ketchup, mustard, onion):\n",
    "    \"\"\"Return whether the customer wants a plain hot dog with no toppings.\n",
    "    \"\"\"\n",
    "    return not ketchup and not mustard and not onion\n",
    "# Check your answer\n",
    "q5.b.check()"
   ]
  },
  {
   "cell_type": "code",
   "execution_count": 16,
   "id": "6a0e0b45",
   "metadata": {
    "execution": {
     "iopub.execute_input": "2021-08-06T07:52:10.850740Z",
     "iopub.status.busy": "2021-08-06T07:52:10.850135Z",
     "iopub.status.idle": "2021-08-06T07:52:10.852737Z",
     "shell.execute_reply": "2021-08-06T07:52:10.852246Z"
    },
    "papermill": {
     "duration": 0.032499,
     "end_time": "2021-08-06T07:52:10.852897",
     "exception": false,
     "start_time": "2021-08-06T07:52:10.820398",
     "status": "completed"
    },
    "tags": []
   },
   "outputs": [],
   "source": [
    "#q5.b.hint()\n",
    "#q5.b.solution()"
   ]
  },
  {
   "cell_type": "markdown",
   "id": "ca10b2b5",
   "metadata": {
    "papermill": {
     "duration": 0.026167,
     "end_time": "2021-08-06T07:52:10.905422",
     "exception": false,
     "start_time": "2021-08-06T07:52:10.879255",
     "status": "completed"
    },
    "tags": []
   },
   "source": [
    "# 5c.\n",
    "\n",
    "You know what to do: for the next function, fill in the body to match the English description in the docstring."
   ]
  },
  {
   "cell_type": "code",
   "execution_count": 17,
   "id": "ab17b7fd",
   "metadata": {
    "execution": {
     "iopub.execute_input": "2021-08-06T07:52:10.968455Z",
     "iopub.status.busy": "2021-08-06T07:52:10.967655Z",
     "iopub.status.idle": "2021-08-06T07:52:10.974571Z",
     "shell.execute_reply": "2021-08-06T07:52:10.975356Z",
     "shell.execute_reply.started": "2021-08-06T07:47:58.152251Z"
    },
    "papermill": {
     "duration": 0.039429,
     "end_time": "2021-08-06T07:52:10.975578",
     "exception": false,
     "start_time": "2021-08-06T07:52:10.936149",
     "status": "completed"
    },
    "tags": []
   },
   "outputs": [
    {
     "data": {
      "application/javascript": [
       "parent.postMessage({\"jupyterEvent\": \"custom.exercise_interaction\", \"data\": {\"outcomeType\": 1, \"valueTowardsCompletion\": 0.2, \"interactionType\": 1, \"questionType\": 2, \"questionId\": \"5.3_OneSauce\", \"learnToolsVersion\": \"0.3.4\", \"failureMessage\": \"\", \"exceptionClass\": \"\", \"trace\": \"\"}}, \"*\")"
      ],
      "text/plain": [
       "<IPython.core.display.Javascript object>"
      ]
     },
     "metadata": {},
     "output_type": "display_data"
    },
    {
     "data": {
      "text/markdown": [
       "<span style=\"color:#33cc33\">Correct</span>"
      ],
      "text/plain": [
       "Correct"
      ]
     },
     "metadata": {},
     "output_type": "display_data"
    }
   ],
   "source": [
    "def exactly_one_sauce(ketchup, mustard, onion):\n",
    "    \"\"\"Return whether the customer wants either ketchup or mustard, but not both.\n",
    "    (You may be familiar with this operation under the name \"exclusive or\")\n",
    "    \"\"\"\n",
    "    return ketchup ^ mustard and onion\n",
    "\n",
    "# Check your answer\n",
    "q5.c.check()"
   ]
  },
  {
   "cell_type": "code",
   "execution_count": 18,
   "id": "019db77a",
   "metadata": {
    "execution": {
     "iopub.execute_input": "2021-08-06T07:52:11.043368Z",
     "iopub.status.busy": "2021-08-06T07:52:11.042279Z",
     "iopub.status.idle": "2021-08-06T07:52:11.044947Z",
     "shell.execute_reply": "2021-08-06T07:52:11.044186Z"
    },
    "papermill": {
     "duration": 0.035979,
     "end_time": "2021-08-06T07:52:11.045124",
     "exception": false,
     "start_time": "2021-08-06T07:52:11.009145",
     "status": "completed"
    },
    "tags": []
   },
   "outputs": [],
   "source": [
    "#q5.c.hint()\n",
    "#q5.c.solution()"
   ]
  },
  {
   "cell_type": "markdown",
   "id": "3ba269d0",
   "metadata": {
    "papermill": {
     "duration": 0.026993,
     "end_time": "2021-08-06T07:52:11.100857",
     "exception": false,
     "start_time": "2021-08-06T07:52:11.073864",
     "status": "completed"
    },
    "tags": []
   },
   "source": [
    "# 6. <span title=\"A bit spicy\" style=\"color: darkgreen \">🌶️</span>\n",
    "\n",
    "We’ve seen that calling `bool()` on an integer returns `False` if it’s equal to 0 and `True` otherwise. What happens if we call `int()` on a bool? Try it out in the notebook cell below.\n",
    "\n",
    "Can you take advantage of this to write a succinct function that corresponds to the English sentence \"does the customer want exactly one topping?\"?"
   ]
  },
  {
   "cell_type": "code",
   "execution_count": 19,
   "id": "76dc6904",
   "metadata": {
    "execution": {
     "iopub.execute_input": "2021-08-06T07:52:11.158579Z",
     "iopub.status.busy": "2021-08-06T07:52:11.157981Z",
     "iopub.status.idle": "2021-08-06T07:52:11.164596Z",
     "shell.execute_reply": "2021-08-06T07:52:11.165098Z",
     "shell.execute_reply.started": "2021-08-06T07:51:15.089164Z"
    },
    "papermill": {
     "duration": 0.036948,
     "end_time": "2021-08-06T07:52:11.165256",
     "exception": false,
     "start_time": "2021-08-06T07:52:11.128308",
     "status": "completed"
    },
    "tags": []
   },
   "outputs": [
    {
     "data": {
      "application/javascript": [
       "parent.postMessage({\"jupyterEvent\": \"custom.exercise_interaction\", \"data\": {\"outcomeType\": 1, \"valueTowardsCompletion\": 0.2, \"interactionType\": 1, \"questionType\": 2, \"questionId\": \"6_OneTopping\", \"learnToolsVersion\": \"0.3.4\", \"failureMessage\": \"\", \"exceptionClass\": \"\", \"trace\": \"\"}}, \"*\")"
      ],
      "text/plain": [
       "<IPython.core.display.Javascript object>"
      ]
     },
     "metadata": {},
     "output_type": "display_data"
    },
    {
     "data": {
      "text/markdown": [
       "<span style=\"color:#33cc33\">Correct:</span> \n",
       "\n",
       "This condition would be pretty complicated to express using just `and`, `or` and `not`, but using boolean-to-integer conversion gives us this short solution:\n",
       "```python\n",
       "return (int(ketchup) + int(mustard) + int(onion)) == 1\n",
       "```\n",
       "\n",
       "Fun fact: we don't technically need to call `int` on the arguments. Just by doing addition with booleans, Python implicitly does the integer conversion. So we could also write...\n",
       "\n",
       "```python\n",
       "return (ketchup + mustard + onion) == 1\n",
       "```"
      ],
      "text/plain": [
       "Correct: \n",
       "\n",
       "This condition would be pretty complicated to express using just `and`, `or` and `not`, but using boolean-to-integer conversion gives us this short solution:\n",
       "```python\n",
       "return (int(ketchup) + int(mustard) + int(onion)) == 1\n",
       "```\n",
       "\n",
       "Fun fact: we don't technically need to call `int` on the arguments. Just by doing addition with booleans, Python implicitly does the integer conversion. So we could also write...\n",
       "\n",
       "```python\n",
       "return (ketchup + mustard + onion) == 1\n",
       "```"
      ]
     },
     "metadata": {},
     "output_type": "display_data"
    }
   ],
   "source": [
    "def exactly_one_topping(ketchup, mustard, onion):\n",
    "    \"\"\"Return whether the customer wants exactly one of the three available toppings\n",
    "    on their hot dog.\n",
    "    \"\"\"\n",
    "    return (int(ketchup) + int(mustard) + int (onion)) == 1\n",
    "        \n",
    "\n",
    "\n",
    "\n",
    "# Check your answer\n",
    "q6.check()"
   ]
  },
  {
   "cell_type": "code",
   "execution_count": 20,
   "id": "d9a1321a",
   "metadata": {
    "execution": {
     "iopub.execute_input": "2021-08-06T07:52:11.224324Z",
     "iopub.status.busy": "2021-08-06T07:52:11.223725Z",
     "iopub.status.idle": "2021-08-06T07:52:11.226271Z",
     "shell.execute_reply": "2021-08-06T07:52:11.226693Z",
     "shell.execute_reply.started": "2021-08-06T07:51:10.616317Z"
    },
    "papermill": {
     "duration": 0.03351,
     "end_time": "2021-08-06T07:52:11.226865",
     "exception": false,
     "start_time": "2021-08-06T07:52:11.193355",
     "status": "completed"
    },
    "tags": []
   },
   "outputs": [],
   "source": [
    "#q6.hint()\n",
    "#q6.solution()"
   ]
  },
  {
   "cell_type": "markdown",
   "id": "60ff5017",
   "metadata": {
    "papermill": {
     "duration": 0.027713,
     "end_time": "2021-08-06T07:52:11.282884",
     "exception": false,
     "start_time": "2021-08-06T07:52:11.255171",
     "status": "completed"
    },
    "tags": []
   },
   "source": [
    "# 7. <span title=\"A bit spicy\" style=\"color: darkgreen \">🌶️</span> (Optional)\n",
    "\n",
    "In this problem we'll be working with a simplified version of [blackjack](https://en.wikipedia.org/wiki/Blackjack) (aka twenty-one). In this version there is one player (who you'll control) and a dealer. Play proceeds as follows:\n",
    "\n",
    "- The player is dealt two face-up cards. The dealer is dealt one face-up card.\n",
    "- The player may ask to be dealt another card ('hit') as many times as they wish. If the sum of their cards exceeds 21, they lose the round immediately.\n",
    "- The dealer then deals additional cards to himself until either:\n",
    "    - the sum of the dealer's cards exceeds 21, in which case the player wins the round\n",
    "    - the sum of the dealer's cards is greater than or equal to 17. If the player's total is greater than the dealer's, the player wins. Otherwise, the dealer wins (even in case of a tie).\n",
    "    \n",
    "When calculating the sum of cards, Jack, Queen, and King count for 10. Aces can count as 1 or 11 (when referring to a player's \"total\" above, we mean the largest total that can be made without exceeding 21. So e.g. A+8 = 19, A+8+8 = 17)\n",
    "\n",
    "For this problem, you'll write a function representing the player's decision-making strategy in this game. We've provided a very unintelligent implementation below:"
   ]
  },
  {
   "cell_type": "code",
   "execution_count": 21,
   "id": "a98ca07d",
   "metadata": {
    "execution": {
     "iopub.execute_input": "2021-08-06T07:52:11.353698Z",
     "iopub.status.busy": "2021-08-06T07:52:11.352829Z",
     "iopub.status.idle": "2021-08-06T07:52:11.356930Z",
     "shell.execute_reply": "2021-08-06T07:52:11.357448Z"
    },
    "papermill": {
     "duration": 0.039584,
     "end_time": "2021-08-06T07:52:11.357601",
     "exception": false,
     "start_time": "2021-08-06T07:52:11.318017",
     "status": "completed"
    },
    "tags": []
   },
   "outputs": [],
   "source": [
    "def should_hit(dealer_total, player_total, player_low_aces, player_high_aces):\n",
    "    \"\"\"Return True if the player should hit (request another card) given the current game\n",
    "    state, or False if the player should stay.\n",
    "    When calculating a hand's total value, we count aces as \"high\" (with value 11) if doing so\n",
    "    doesn't bring the total above 21, otherwise we count them as low (with value 1). \n",
    "    For example, if the player's hand is {A, A, A, 7}, we will count it as 11 + 1 + 1 + 7,\n",
    "    and therefore set player_total=20, player_low_aces=2, player_high_aces=1.\n",
    "    \"\"\"\n",
    "    return False"
   ]
  },
  {
   "cell_type": "markdown",
   "id": "477ca301",
   "metadata": {
    "papermill": {
     "duration": 0.027906,
     "end_time": "2021-08-06T07:52:11.416583",
     "exception": false,
     "start_time": "2021-08-06T07:52:11.388677",
     "status": "completed"
    },
    "tags": []
   },
   "source": [
    "This very conservative agent *always* sticks with the hand of two cards that they're dealt.\n",
    "\n",
    "We'll be simulating games between your player agent and our own dealer agent by calling your function.\n",
    "\n",
    "Try running the function below to see an example of a simulated game:"
   ]
  },
  {
   "cell_type": "code",
   "execution_count": 22,
   "id": "acd9711a",
   "metadata": {
    "execution": {
     "iopub.execute_input": "2021-08-06T07:52:11.476258Z",
     "iopub.status.busy": "2021-08-06T07:52:11.475386Z",
     "iopub.status.idle": "2021-08-06T07:52:11.482359Z",
     "shell.execute_reply": "2021-08-06T07:52:11.481584Z"
    },
    "papermill": {
     "duration": 0.037421,
     "end_time": "2021-08-06T07:52:11.482532",
     "exception": false,
     "start_time": "2021-08-06T07:52:11.445111",
     "status": "completed"
    },
    "tags": []
   },
   "outputs": [
    {
     "name": "stdout",
     "output_type": "stream",
     "text": [
      "Player starts with 2 and 6 (total = 8)\n",
      "Dealer starts with 8\n",
      "\n",
      "__Player's turn__\n",
      "Player stays\n",
      "\n",
      "__Dealer's turn__\n",
      "Dealer hits and receives 4. (total = 12)\n",
      "Dealer hits and receives 3. (total = 15)\n",
      "Dealer hits and receives 8. (total = 23)\n",
      "Dealer busts! Player wins.\n"
     ]
    }
   ],
   "source": [
    "q7.simulate_one_game()"
   ]
  },
  {
   "cell_type": "markdown",
   "id": "818a93ce",
   "metadata": {
    "papermill": {
     "duration": 0.028399,
     "end_time": "2021-08-06T07:52:11.540400",
     "exception": false,
     "start_time": "2021-08-06T07:52:11.512001",
     "status": "completed"
    },
    "tags": []
   },
   "source": [
    "The real test of your agent's mettle is their average win rate over many games. Try calling the function below to simulate 50000 games of blackjack (it may take a couple seconds):"
   ]
  },
  {
   "cell_type": "code",
   "execution_count": 23,
   "id": "66c001ba",
   "metadata": {
    "execution": {
     "iopub.execute_input": "2021-08-06T07:52:11.602306Z",
     "iopub.status.busy": "2021-08-06T07:52:11.601664Z",
     "iopub.status.idle": "2021-08-06T07:52:12.843569Z",
     "shell.execute_reply": "2021-08-06T07:52:12.844050Z"
    },
    "papermill": {
     "duration": 1.275207,
     "end_time": "2021-08-06T07:52:12.844226",
     "exception": false,
     "start_time": "2021-08-06T07:52:11.569019",
     "status": "completed"
    },
    "tags": []
   },
   "outputs": [
    {
     "name": "stdout",
     "output_type": "stream",
     "text": [
      "Player won 19241 out of 50000 games (win rate = 38.5%)\n"
     ]
    }
   ],
   "source": [
    "q7.simulate(n_games=50000)"
   ]
  },
  {
   "cell_type": "markdown",
   "id": "90d2423b",
   "metadata": {
    "papermill": {
     "duration": 0.028732,
     "end_time": "2021-08-06T07:52:12.902399",
     "exception": false,
     "start_time": "2021-08-06T07:52:12.873667",
     "status": "completed"
    },
    "tags": []
   },
   "source": [
    "Our dumb agent that completely ignores the game state still manages to win shockingly often!\n",
    "\n",
    "Try adding some more smarts to the `should_hit` function and see how it affects the results."
   ]
  },
  {
   "cell_type": "code",
   "execution_count": 24,
   "id": "fc50a103",
   "metadata": {
    "execution": {
     "iopub.execute_input": "2021-08-06T07:52:12.978214Z",
     "iopub.status.busy": "2021-08-06T07:52:12.973153Z",
     "iopub.status.idle": "2021-08-06T07:52:14.204679Z",
     "shell.execute_reply": "2021-08-06T07:52:14.205381Z"
    },
    "papermill": {
     "duration": 1.274392,
     "end_time": "2021-08-06T07:52:14.205610",
     "exception": false,
     "start_time": "2021-08-06T07:52:12.931218",
     "status": "completed"
    },
    "tags": []
   },
   "outputs": [
    {
     "name": "stdout",
     "output_type": "stream",
     "text": [
      "Player won 19069 out of 50000 games (win rate = 38.1%)\n"
     ]
    }
   ],
   "source": [
    "def should_hit(dealer_total, player_total, player_low_aces, player_high_aces):\n",
    "    \"\"\"Return True if the player should hit (request another card) given the current game\n",
    "    state, or False if the player should stay.\n",
    "    When calculating a hand's total value, we count aces as \"high\" (with value 11) if doing so\n",
    "    doesn't bring the total above 21, otherwise we count them as low (with value 1). \n",
    "    For example, if the player's hand is {A, A, A, 7}, we will count it as 11 + 1 + 1 + 7,\n",
    "    and therefore set player_total=20, player_low_aces=2, player_high_aces=1.\n",
    "    \"\"\"\n",
    "    return False\n",
    "\n",
    "q7.simulate(n_games=50000)"
   ]
  },
  {
   "cell_type": "markdown",
   "id": "4e77d2a9",
   "metadata": {
    "papermill": {
     "duration": 0.028807,
     "end_time": "2021-08-06T07:52:14.264647",
     "exception": false,
     "start_time": "2021-08-06T07:52:14.235840",
     "status": "completed"
    },
    "tags": []
   },
   "source": [
    "# Keep Going\n",
    "\n",
    "Learn about **[lists and tuples](https://www.kaggle.com/colinmorris/lists)** to handle multiple items of data in a systematic way."
   ]
  },
  {
   "cell_type": "markdown",
   "id": "d1843e6e",
   "metadata": {
    "papermill": {
     "duration": 0.02964,
     "end_time": "2021-08-06T07:52:14.323316",
     "exception": false,
     "start_time": "2021-08-06T07:52:14.293676",
     "status": "completed"
    },
    "tags": []
   },
   "source": [
    "---\n",
    "\n",
    "\n",
    "\n",
    "\n",
    "*Have questions or comments? Visit the [Learn Discussion forum](https://www.kaggle.com/learn-forum/161283) to chat with other Learners.*"
   ]
  }
 ],
 "metadata": {
  "kernelspec": {
   "display_name": "Python 3",
   "language": "python",
   "name": "python3"
  },
  "language_info": {
   "codemirror_mode": {
    "name": "ipython",
    "version": 3
   },
   "file_extension": ".py",
   "mimetype": "text/x-python",
   "name": "python",
   "nbconvert_exporter": "python",
   "pygments_lexer": "ipython3",
   "version": "3.7.10"
  },
  "papermill": {
   "default_parameters": {},
   "duration": 12.3947,
   "end_time": "2021-08-06T07:52:14.965973",
   "environment_variables": {},
   "exception": null,
   "input_path": "__notebook__.ipynb",
   "output_path": "__notebook__.ipynb",
   "parameters": {},
   "start_time": "2021-08-06T07:52:02.571273",
   "version": "2.3.3"
  }
 },
 "nbformat": 4,
 "nbformat_minor": 5
}
