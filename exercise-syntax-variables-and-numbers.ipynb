{
 "cells": [
  {
   "cell_type": "markdown",
   "id": "87943e3e",
   "metadata": {
    "papermill": {
     "duration": 0.016834,
     "end_time": "2021-08-04T07:14:31.697316",
     "exception": false,
     "start_time": "2021-08-04T07:14:31.680482",
     "status": "completed"
    },
    "tags": []
   },
   "source": [
    "**This notebook is an exercise in the [Python](https://www.kaggle.com/learn/python) course.  You can reference the tutorial at [this link](https://www.kaggle.com/colinmorris/hello-python).**\n",
    "\n",
    "---\n"
   ]
  },
  {
   "cell_type": "markdown",
   "id": "9c4d841a",
   "metadata": {
    "papermill": {
     "duration": 0.015345,
     "end_time": "2021-08-04T07:14:31.729103",
     "exception": false,
     "start_time": "2021-08-04T07:14:31.713758",
     "status": "completed"
    },
    "tags": []
   },
   "source": [
    "Welcome to your first set of Python coding problems.  If this is your first time using Kaggle Notebooks, welcome! \n",
    "\n",
    "Notebooks are composed of blocks (called \"cells\") of text and code. Each of these is editable, though you'll mainly be editing the code cells to answer some questions.\n",
    "\n",
    "To get started, try running the code cell below (by pressing the ► button, or clicking on the cell and pressing ctrl+enter on your keyboard)."
   ]
  },
  {
   "cell_type": "code",
   "execution_count": null,
   "id": "280fc9cc",
   "metadata": {
    "papermill": {
     "duration": 0.015442,
     "end_time": "2021-08-04T07:14:31.760232",
     "exception": false,
     "start_time": "2021-08-04T07:14:31.744790",
     "status": "completed"
    },
    "tags": []
   },
   "outputs": [],
   "source": []
  },
  {
   "cell_type": "code",
   "execution_count": 1,
   "id": "c5c0b1ae",
   "metadata": {
    "execution": {
     "iopub.execute_input": "2021-08-04T07:14:31.803457Z",
     "iopub.status.busy": "2021-08-04T07:14:31.802814Z",
     "iopub.status.idle": "2021-08-04T07:14:31.806423Z",
     "shell.execute_reply": "2021-08-04T07:14:31.805719Z"
    },
    "papermill": {
     "duration": 0.030821,
     "end_time": "2021-08-04T07:14:31.806579",
     "exception": false,
     "start_time": "2021-08-04T07:14:31.775758",
     "status": "completed"
    },
    "tags": []
   },
   "outputs": [
    {
     "name": "stdout",
     "output_type": "stream",
     "text": [
      "You've successfully run some Python code\n",
      "Congratulations!\n"
     ]
    }
   ],
   "source": [
    "print(\"You've successfully run some Python code\")\n",
    "print(\"Congratulations!\")"
   ]
  },
  {
   "cell_type": "code",
   "execution_count": null,
   "id": "3a9f0937",
   "metadata": {
    "papermill": {
     "duration": 0.01612,
     "end_time": "2021-08-04T07:14:31.839029",
     "exception": false,
     "start_time": "2021-08-04T07:14:31.822909",
     "status": "completed"
    },
    "tags": []
   },
   "outputs": [],
   "source": []
  },
  {
   "cell_type": "markdown",
   "id": "588bdb81",
   "metadata": {
    "papermill": {
     "duration": 0.016042,
     "end_time": "2021-08-04T07:14:31.871455",
     "exception": false,
     "start_time": "2021-08-04T07:14:31.855413",
     "status": "completed"
    },
    "tags": []
   },
   "source": [
    "Try adding another line of code in the cell above and re-running it. \n",
    "\n",
    "Now let's get a little fancier:  Add a new code cell by clicking on an existing code cell, hitting the escape key, and then hitting the `a` or `b` key.  The `a` key will add a cell above the current cell, and `b` adds a cell below.\n",
    "\n",
    "Great! Now you know how to use Notebooks.\n",
    "\n",
    "Each hands-on exercise starts by setting up our feedback and code checking mechanism. Run the code cell below to do that. Then you'll be ready to move on to question 0."
   ]
  },
  {
   "cell_type": "code",
   "execution_count": 2,
   "id": "66f4d785",
   "metadata": {
    "_kg_hide-input": true,
    "_kg_hide-output": true,
    "execution": {
     "iopub.execute_input": "2021-08-04T07:14:31.907920Z",
     "iopub.status.busy": "2021-08-04T07:14:31.907321Z",
     "iopub.status.idle": "2021-08-04T07:14:32.034996Z",
     "shell.execute_reply": "2021-08-04T07:14:32.035493Z",
     "shell.execute_reply.started": "2021-08-04T06:59:18.912940Z"
    },
    "papermill": {
     "duration": 0.147258,
     "end_time": "2021-08-04T07:14:32.035670",
     "exception": false,
     "start_time": "2021-08-04T07:14:31.888412",
     "status": "completed"
    },
    "tags": []
   },
   "outputs": [
    {
     "name": "stdout",
     "output_type": "stream",
     "text": [
      "Setup complete! You're ready to start question 0.\n"
     ]
    }
   ],
   "source": [
    "from learntools.core import binder; binder.bind(globals())\n",
    "from learntools.python.ex1 import *\n",
    "print(\"Setup complete! You're ready to start question 0.\")"
   ]
  },
  {
   "cell_type": "markdown",
   "id": "89f30986",
   "metadata": {
    "papermill": {
     "duration": 0.015852,
     "end_time": "2021-08-04T07:14:32.067911",
     "exception": false,
     "start_time": "2021-08-04T07:14:32.052059",
     "status": "completed"
    },
    "tags": []
   },
   "source": [
    "# 0.\n",
    "\n",
    "*This is a silly question intended as an introduction to the format we use for hands-on exercises throughout all Kaggle courses.*\n",
    "\n",
    "**What is your favorite color? **\n",
    "\n",
    "To complete this question, create a variable called `color` in the cell below with an appropriate value. The function call `q0.check()` (which we've already provided in the cell below) will check your answer."
   ]
  },
  {
   "cell_type": "code",
   "execution_count": 3,
   "id": "611224ff",
   "metadata": {
    "execution": {
     "iopub.execute_input": "2021-08-04T07:14:32.107224Z",
     "iopub.status.busy": "2021-08-04T07:14:32.106556Z",
     "iopub.status.idle": "2021-08-04T07:14:32.112203Z",
     "shell.execute_reply": "2021-08-04T07:14:32.112653Z",
     "shell.execute_reply.started": "2021-08-04T07:13:36.637142Z"
    },
    "papermill": {
     "duration": 0.0287,
     "end_time": "2021-08-04T07:14:32.112814",
     "exception": false,
     "start_time": "2021-08-04T07:14:32.084114",
     "status": "completed"
    },
    "tags": []
   },
   "outputs": [
    {
     "data": {
      "application/javascript": [
       "parent.postMessage({\"jupyterEvent\": \"custom.exercise_interaction\", \"data\": {\"outcomeType\": 2, \"failureMessage\": \"\", \"interactionType\": 1, \"questionType\": 2, \"questionId\": \"0_ExerciseFormatTutorial\", \"learnToolsVersion\": \"0.3.4\", \"valueTowardsCompletion\": 0.0, \"exceptionClass\": \"\", \"trace\": \"\"}}, \"*\")"
      ],
      "text/plain": [
       "<IPython.core.display.Javascript object>"
      ]
     },
     "metadata": {},
     "output_type": "display_data"
    },
    {
     "data": {
      "text/markdown": [
       "<span style=\"color:#cc3333\">Incorrect</span>"
      ],
      "text/plain": [
       "Incorrect"
      ]
     },
     "metadata": {},
     "output_type": "display_data"
    }
   ],
   "source": [
    "# create a variable called color with an appropriate value on the line below\n",
    "# (Remember, strings in Python must be enclosed in 'single' or \"double\" quotes)\n",
    "____\n",
    "\n",
    "color = \"red\"\n",
    "# Check your answer\n",
    "q0.check()\n",
    "\n"
   ]
  },
  {
   "cell_type": "markdown",
   "id": "c39bfb00",
   "metadata": {
    "papermill": {
     "duration": 0.016584,
     "end_time": "2021-08-04T07:14:32.146441",
     "exception": false,
     "start_time": "2021-08-04T07:14:32.129857",
     "status": "completed"
    },
    "tags": []
   },
   "source": [
    "Didn't get the right answer? How do you not even know your own favorite color?!\n",
    "\n",
    "Delete the `#` in the line below to make one of the lines run. You can choose between getting a hint or the full answer by choosing which line to remove the `#` from. \n",
    "\n",
    "Removing the `#` is called uncommenting, because it changes that line from a \"comment\" which Python doesn't run to code, which Python does run."
   ]
  },
  {
   "cell_type": "code",
   "execution_count": 4,
   "id": "46eb1a53",
   "metadata": {
    "execution": {
     "iopub.execute_input": "2021-08-04T07:14:32.184320Z",
     "iopub.status.busy": "2021-08-04T07:14:32.183646Z",
     "iopub.status.idle": "2021-08-04T07:14:32.186551Z",
     "shell.execute_reply": "2021-08-04T07:14:32.186081Z",
     "shell.execute_reply.started": "2021-08-04T07:05:35.919963Z"
    },
    "papermill": {
     "duration": 0.023319,
     "end_time": "2021-08-04T07:14:32.186689",
     "exception": false,
     "start_time": "2021-08-04T07:14:32.163370",
     "status": "completed"
    },
    "tags": []
   },
   "outputs": [],
   "source": [
    "#q0.hint()\n",
    "#q0.solution()"
   ]
  },
  {
   "cell_type": "markdown",
   "id": "6f9d2a8c",
   "metadata": {
    "papermill": {
     "duration": 0.016775,
     "end_time": "2021-08-04T07:14:32.220302",
     "exception": false,
     "start_time": "2021-08-04T07:14:32.203527",
     "status": "completed"
    },
    "tags": []
   },
   "source": [
    "The upcoming questions work the same way. The only thing that will change are the question numbers. For the next question, you'll call `q1.check()`, `q1.hint()`, `q1.solution()`, for question 2, you'll call `q2.check()`, and so on."
   ]
  },
  {
   "cell_type": "markdown",
   "id": "ef9f8131",
   "metadata": {
    "papermill": {
     "duration": 0.01738,
     "end_time": "2021-08-04T07:14:32.254605",
     "exception": false,
     "start_time": "2021-08-04T07:14:32.237225",
     "status": "completed"
    },
    "tags": []
   },
   "source": [
    "<hr/>\n",
    "\n",
    "# 1.\n",
    "\n",
    "Complete the code below. In case it's helpful, here is the table of available arithmetic operations:\n",
    "\n",
    "\n",
    "\n",
    "| Operator     | Name           | Description                                            |\n",
    "|--------------|----------------|--------------------------------------------------------|\n",
    "| ``a + b``    | Addition       | Sum of ``a`` and ``b``                                 |\n",
    "| ``a - b``    | Subtraction    | Difference of ``a`` and ``b``                          |\n",
    "| ``a * b``    | Multiplication | Product of ``a`` and ``b``                             |\n",
    "| ``a / b``    | True division  | Quotient of ``a`` and ``b``                            |\n",
    "| ``a // b``   | Floor division | Quotient of ``a`` and ``b``, removing fractional parts |\n",
    "| ``a % b``    | Modulus        | Integer remainder after division of ``a`` by ``b``     |\n",
    "| ``a ** b``   | Exponentiation | ``a`` raised to the power of ``b``                     |\n",
    "| ``-a``       | Negation       | The negative of ``a``                                  |\n",
    "\n",
    "<span style=\"display:none\"></span>\n"
   ]
  },
  {
   "cell_type": "code",
   "execution_count": 5,
   "id": "ff72d24d",
   "metadata": {
    "execution": {
     "iopub.execute_input": "2021-08-04T07:14:32.295680Z",
     "iopub.status.busy": "2021-08-04T07:14:32.295045Z",
     "iopub.status.idle": "2021-08-04T07:14:32.302450Z",
     "shell.execute_reply": "2021-08-04T07:14:32.302857Z",
     "shell.execute_reply.started": "2021-08-04T06:59:27.280206Z"
    },
    "papermill": {
     "duration": 0.03109,
     "end_time": "2021-08-04T07:14:32.303048",
     "exception": false,
     "start_time": "2021-08-04T07:14:32.271958",
     "status": "completed"
    },
    "tags": []
   },
   "outputs": [
    {
     "name": "stdout",
     "output_type": "stream",
     "text": [
      "7.0685775\n"
     ]
    },
    {
     "data": {
      "application/javascript": [
       "parent.postMessage({\"jupyterEvent\": \"custom.exercise_interaction\", \"data\": {\"outcomeType\": 1, \"valueTowardsCompletion\": 0.25, \"interactionType\": 1, \"questionType\": 1, \"questionId\": \"1_CircleArea\", \"learnToolsVersion\": \"0.3.4\", \"failureMessage\": \"\", \"exceptionClass\": \"\", \"trace\": \"\"}}, \"*\")"
      ],
      "text/plain": [
       "<IPython.core.display.Javascript object>"
      ]
     },
     "metadata": {},
     "output_type": "display_data"
    },
    {
     "data": {
      "text/markdown": [
       "<span style=\"color:#33cc33\">Correct</span>"
      ],
      "text/plain": [
       "Correct"
      ]
     },
     "metadata": {},
     "output_type": "display_data"
    }
   ],
   "source": [
    "pi = 3.14159 # approximate\n",
    "diameter = 3\n",
    "\n",
    "# Create a variable called 'radius' equal to half the diameter\n",
    "radius = diameter / 2\n",
    "____\n",
    "\n",
    "# Create a variable called 'area', using the formula for the area of a circle: pi times the radius squared\n",
    "area =  pi * ( radius ** 2) \n",
    "____\n",
    "\n",
    "# Check your answer\n",
    "print(area)\n",
    "q1.check()"
   ]
  },
  {
   "cell_type": "code",
   "execution_count": 6,
   "id": "468adf31",
   "metadata": {
    "execution": {
     "iopub.execute_input": "2021-08-04T07:14:32.342881Z",
     "iopub.status.busy": "2021-08-04T07:14:32.342298Z",
     "iopub.status.idle": "2021-08-04T07:14:32.346241Z",
     "shell.execute_reply": "2021-08-04T07:14:32.345602Z",
     "shell.execute_reply.started": "2021-08-04T07:12:22.385595Z"
    },
    "papermill": {
     "duration": 0.025216,
     "end_time": "2021-08-04T07:14:32.346381",
     "exception": false,
     "start_time": "2021-08-04T07:14:32.321165",
     "status": "completed"
    },
    "tags": []
   },
   "outputs": [],
   "source": [
    "# Uncomment and run the lines below if you need help.\n",
    "#q1.hint()\n",
    "#q1.solution()"
   ]
  },
  {
   "cell_type": "markdown",
   "id": "4960640b",
   "metadata": {
    "papermill": {
     "duration": 0.020833,
     "end_time": "2021-08-04T07:14:32.390891",
     "exception": false,
     "start_time": "2021-08-04T07:14:32.370058",
     "status": "completed"
    },
    "tags": []
   },
   "source": [
    "<hr/>\n",
    "\n",
    "# 2.\n",
    "\n",
    "Add code to the following cell to swap variables `a` and `b` (so that `a` refers to the object previously referred to by `b` and vice versa)."
   ]
  },
  {
   "cell_type": "code",
   "execution_count": 7,
   "id": "81dd7361",
   "metadata": {
    "execution": {
     "iopub.execute_input": "2021-08-04T07:14:32.441181Z",
     "iopub.status.busy": "2021-08-04T07:14:32.440524Z",
     "iopub.status.idle": "2021-08-04T07:14:32.447158Z",
     "shell.execute_reply": "2021-08-04T07:14:32.446622Z",
     "shell.execute_reply.started": "2021-08-04T07:02:09.931559Z"
    },
    "papermill": {
     "duration": 0.033613,
     "end_time": "2021-08-04T07:14:32.447359",
     "exception": false,
     "start_time": "2021-08-04T07:14:32.413746",
     "status": "completed"
    },
    "tags": []
   },
   "outputs": [
    {
     "data": {
      "application/javascript": [
       "parent.postMessage({\"jupyterEvent\": \"custom.exercise_interaction\", \"data\": {\"outcomeType\": 1, \"valueTowardsCompletion\": 0.25, \"interactionType\": 1, \"questionType\": 2, \"questionId\": \"2_VariableSwap\", \"learnToolsVersion\": \"0.3.4\", \"failureMessage\": \"\", \"exceptionClass\": \"\", \"trace\": \"\"}}, \"*\")"
      ],
      "text/plain": [
       "<IPython.core.display.Javascript object>"
      ]
     },
     "metadata": {},
     "output_type": "display_data"
    },
    {
     "data": {
      "text/markdown": [
       "<span style=\"color:#33cc33\">Correct:</span> \n",
       "\n",
       "The most straightforward solution is to use a third variable to temporarily store one of the old values. e.g.:\n",
       "\n",
       "    tmp = a\n",
       "    a = b\n",
       "    b = tmp\n",
       "\n",
       "If you've read lots of Python code, you might have seen the following trick to swap two variables in one line:\n",
       "\n",
       "    a, b = b, a\n",
       "\n",
       "We'll demystify this bit of Python magic later when we talk about *tuples*."
      ],
      "text/plain": [
       "Correct: \n",
       "\n",
       "The most straightforward solution is to use a third variable to temporarily store one of the old values. e.g.:\n",
       "\n",
       "    tmp = a\n",
       "    a = b\n",
       "    b = tmp\n",
       "\n",
       "If you've read lots of Python code, you might have seen the following trick to swap two variables in one line:\n",
       "\n",
       "    a, b = b, a\n",
       "\n",
       "We'll demystify this bit of Python magic later when we talk about *tuples*."
      ]
     },
     "metadata": {},
     "output_type": "display_data"
    }
   ],
   "source": [
    "########### Setup code - don't touch this part ######################\n",
    "# If you're curious, these are examples of lists. We'll talk about \n",
    "# them in depth a few lessons from now. For now, just know that they're\n",
    "# yet another type of Python object, like int or float.\n",
    "a = [1, 2, 3]\n",
    "b = [3, 2, 1]\n",
    "q2.store_original_ids()\n",
    "######################################################################\n",
    "a , b = b,a\n",
    "# Your code goes here. Swap the values to which a and b refer.\n",
    "# If you get stuck, you can always uncomment one or both of the lines in\n",
    "# the next cell for a hint, or to peek at the solution.\n",
    "\n",
    "######################################################################\n",
    "\n",
    "# Check your answer\n",
    "q2.check()"
   ]
  },
  {
   "cell_type": "code",
   "execution_count": 8,
   "id": "b2c16979",
   "metadata": {
    "execution": {
     "iopub.execute_input": "2021-08-04T07:14:32.489129Z",
     "iopub.status.busy": "2021-08-04T07:14:32.488509Z",
     "iopub.status.idle": "2021-08-04T07:14:32.490878Z",
     "shell.execute_reply": "2021-08-04T07:14:32.490337Z"
    },
    "papermill": {
     "duration": 0.024779,
     "end_time": "2021-08-04T07:14:32.491025",
     "exception": false,
     "start_time": "2021-08-04T07:14:32.466246",
     "status": "completed"
    },
    "tags": []
   },
   "outputs": [],
   "source": [
    "#q2.hint()"
   ]
  },
  {
   "cell_type": "code",
   "execution_count": 9,
   "id": "b1791f43",
   "metadata": {
    "execution": {
     "iopub.execute_input": "2021-08-04T07:14:32.531528Z",
     "iopub.status.busy": "2021-08-04T07:14:32.530905Z",
     "iopub.status.idle": "2021-08-04T07:14:32.533770Z",
     "shell.execute_reply": "2021-08-04T07:14:32.534216Z",
     "shell.execute_reply.started": "2021-08-04T07:00:41.355860Z"
    },
    "papermill": {
     "duration": 0.024309,
     "end_time": "2021-08-04T07:14:32.534411",
     "exception": false,
     "start_time": "2021-08-04T07:14:32.510102",
     "status": "completed"
    },
    "tags": []
   },
   "outputs": [],
   "source": [
    "#q2.solution()"
   ]
  },
  {
   "cell_type": "markdown",
   "id": "75b7dc24",
   "metadata": {
    "papermill": {
     "duration": 0.018233,
     "end_time": "2021-08-04T07:14:32.571479",
     "exception": false,
     "start_time": "2021-08-04T07:14:32.553246",
     "status": "completed"
    },
    "tags": []
   },
   "source": [
    "<hr/>\n",
    "\n",
    "# 3a.\n",
    "\n",
    "Add parentheses to the following expression so that it evaluates to 1."
   ]
  },
  {
   "cell_type": "code",
   "execution_count": 10,
   "id": "e69349d2",
   "metadata": {
    "execution": {
     "iopub.execute_input": "2021-08-04T07:14:32.614054Z",
     "iopub.status.busy": "2021-08-04T07:14:32.613278Z",
     "iopub.status.idle": "2021-08-04T07:14:32.617033Z",
     "shell.execute_reply": "2021-08-04T07:14:32.616547Z",
     "shell.execute_reply.started": "2021-08-04T07:03:09.203397Z"
    },
    "papermill": {
     "duration": 0.026825,
     "end_time": "2021-08-04T07:14:32.617168",
     "exception": false,
     "start_time": "2021-08-04T07:14:32.590343",
     "status": "completed"
    },
    "tags": []
   },
   "outputs": [
    {
     "data": {
      "text/plain": [
       "1"
      ]
     },
     "execution_count": 10,
     "metadata": {},
     "output_type": "execute_result"
    }
   ],
   "source": [
    "(5 - 3) // 2\n"
   ]
  },
  {
   "cell_type": "code",
   "execution_count": 11,
   "id": "db20c068",
   "metadata": {
    "execution": {
     "iopub.execute_input": "2021-08-04T07:14:32.658954Z",
     "iopub.status.busy": "2021-08-04T07:14:32.658058Z",
     "iopub.status.idle": "2021-08-04T07:14:32.661382Z",
     "shell.execute_reply": "2021-08-04T07:14:32.661781Z"
    },
    "papermill": {
     "duration": 0.025585,
     "end_time": "2021-08-04T07:14:32.661950",
     "exception": false,
     "start_time": "2021-08-04T07:14:32.636365",
     "status": "completed"
    },
    "tags": []
   },
   "outputs": [],
   "source": [
    "#q3.a.hint()"
   ]
  },
  {
   "cell_type": "code",
   "execution_count": 12,
   "id": "e57198ab",
   "metadata": {
    "execution": {
     "iopub.execute_input": "2021-08-04T07:14:32.703518Z",
     "iopub.status.busy": "2021-08-04T07:14:32.702620Z",
     "iopub.status.idle": "2021-08-04T07:14:32.709446Z",
     "shell.execute_reply": "2021-08-04T07:14:32.709880Z"
    },
    "papermill": {
     "duration": 0.02913,
     "end_time": "2021-08-04T07:14:32.710073",
     "exception": false,
     "start_time": "2021-08-04T07:14:32.680943",
     "status": "completed"
    },
    "tags": []
   },
   "outputs": [
    {
     "data": {
      "application/javascript": [
       "parent.postMessage({\"jupyterEvent\": \"custom.exercise_interaction\", \"data\": {\"interactionType\": 3, \"questionType\": 4, \"questionId\": \"3.1_ArithmeticParensEasy\", \"learnToolsVersion\": \"0.3.4\", \"valueTowardsCompletion\": 0.0, \"failureMessage\": \"\", \"exceptionClass\": \"\", \"trace\": \"\", \"outcomeType\": 4}}, \"*\")"
      ],
      "text/plain": [
       "<IPython.core.display.Javascript object>"
      ]
     },
     "metadata": {},
     "output_type": "display_data"
    },
    {
     "data": {
      "text/markdown": [
       "<span style=\"color:#33cc99\">Solution:</span> \n",
       "```python\n",
       "(5 - 3) // 2\n",
       "```"
      ],
      "text/plain": [
       "Solution: \n",
       "```python\n",
       "(5 - 3) // 2\n",
       "```"
      ]
     },
     "metadata": {},
     "output_type": "display_data"
    }
   ],
   "source": [
    "# Check your answer (Run this code cell to receive credit!)\n",
    "q3.a.solution()"
   ]
  },
  {
   "cell_type": "markdown",
   "id": "58bbf1b5",
   "metadata": {
    "papermill": {
     "duration": 0.019488,
     "end_time": "2021-08-04T07:14:32.749282",
     "exception": false,
     "start_time": "2021-08-04T07:14:32.729794",
     "status": "completed"
    },
    "tags": []
   },
   "source": [
    "# 3b.  <span title=\"A bit spicy\" style=\"color: darkgreen \">🌶️</span>\n",
    "\n",
    "<small>Questions, like this one, marked a spicy pepper are a bit harder.</small>\n",
    "\n",
    "Add parentheses to the following expression so that it evaluates to 0."
   ]
  },
  {
   "cell_type": "code",
   "execution_count": 13,
   "id": "7d4f2cbb",
   "metadata": {
    "execution": {
     "iopub.execute_input": "2021-08-04T07:14:32.792082Z",
     "iopub.status.busy": "2021-08-04T07:14:32.791188Z",
     "iopub.status.idle": "2021-08-04T07:14:32.796267Z",
     "shell.execute_reply": "2021-08-04T07:14:32.796646Z",
     "shell.execute_reply.started": "2021-08-04T07:07:37.367425Z"
    },
    "papermill": {
     "duration": 0.02786,
     "end_time": "2021-08-04T07:14:32.796812",
     "exception": false,
     "start_time": "2021-08-04T07:14:32.768952",
     "status": "completed"
    },
    "tags": []
   },
   "outputs": [
    {
     "data": {
      "text/plain": [
       "0"
      ]
     },
     "execution_count": 13,
     "metadata": {},
     "output_type": "execute_result"
    }
   ],
   "source": [
    "(8 - 3) * (2 - (1 + 1))"
   ]
  },
  {
   "cell_type": "code",
   "execution_count": 14,
   "id": "3aee6397",
   "metadata": {
    "execution": {
     "iopub.execute_input": "2021-08-04T07:14:32.845557Z",
     "iopub.status.busy": "2021-08-04T07:14:32.844899Z",
     "iopub.status.idle": "2021-08-04T07:14:32.849918Z",
     "shell.execute_reply": "2021-08-04T07:14:32.849452Z"
    },
    "papermill": {
     "duration": 0.030548,
     "end_time": "2021-08-04T07:14:32.850089",
     "exception": false,
     "start_time": "2021-08-04T07:14:32.819541",
     "status": "completed"
    },
    "tags": []
   },
   "outputs": [],
   "source": [
    "#q3.b.hint()"
   ]
  },
  {
   "cell_type": "code",
   "execution_count": 15,
   "id": "fd8bc120",
   "metadata": {
    "execution": {
     "iopub.execute_input": "2021-08-04T07:14:32.910543Z",
     "iopub.status.busy": "2021-08-04T07:14:32.909868Z",
     "iopub.status.idle": "2021-08-04T07:14:32.915083Z",
     "shell.execute_reply": "2021-08-04T07:14:32.915497Z"
    },
    "papermill": {
     "duration": 0.038078,
     "end_time": "2021-08-04T07:14:32.915667",
     "exception": false,
     "start_time": "2021-08-04T07:14:32.877589",
     "status": "completed"
    },
    "tags": []
   },
   "outputs": [
    {
     "data": {
      "application/javascript": [
       "parent.postMessage({\"jupyterEvent\": \"custom.exercise_interaction\", \"data\": {\"interactionType\": 3, \"questionType\": 4, \"questionId\": \"3.2_ArithmeticParensHard\", \"learnToolsVersion\": \"0.3.4\", \"valueTowardsCompletion\": 0.0, \"failureMessage\": \"\", \"exceptionClass\": \"\", \"trace\": \"\", \"outcomeType\": 4}}, \"*\")"
      ],
      "text/plain": [
       "<IPython.core.display.Javascript object>"
      ]
     },
     "metadata": {},
     "output_type": "display_data"
    },
    {
     "data": {
      "text/markdown": [
       "<span style=\"color:#33cc99\">Solution:</span> `(8 - 3) * (2 - (1 + 1))` is one solution. There may be others."
      ],
      "text/plain": [
       "Solution: `(8 - 3) * (2 - (1 + 1))` is one solution. There may be others."
      ]
     },
     "metadata": {},
     "output_type": "display_data"
    }
   ],
   "source": [
    "# Check your answer (Run this code cell to receive credit!)\n",
    "q3.b.solution()"
   ]
  },
  {
   "cell_type": "markdown",
   "id": "7c0fa030",
   "metadata": {
    "papermill": {
     "duration": 0.02342,
     "end_time": "2021-08-04T07:14:32.960849",
     "exception": false,
     "start_time": "2021-08-04T07:14:32.937429",
     "status": "completed"
    },
    "tags": []
   },
   "source": [
    "<hr/>\n",
    "\n",
    "# 4. \n",
    "Alice, Bob and Carol have agreed to pool their Halloween candy and split it evenly among themselves.\n",
    "For the sake of their friendship, any candies left over will be smashed. For example, if they collectively\n",
    "bring home 91 candies, they'll take 30 each and smash 1.\n",
    "\n",
    "Write an arithmetic expression below to calculate how many candies they must smash for a given haul."
   ]
  },
  {
   "cell_type": "code",
   "execution_count": 16,
   "id": "55e5155c",
   "metadata": {
    "execution": {
     "iopub.execute_input": "2021-08-04T07:14:33.007879Z",
     "iopub.status.busy": "2021-08-04T07:14:33.007235Z",
     "iopub.status.idle": "2021-08-04T07:14:33.015367Z",
     "shell.execute_reply": "2021-08-04T07:14:33.015832Z",
     "shell.execute_reply.started": "2021-08-04T07:11:54.941906Z"
    },
    "papermill": {
     "duration": 0.032804,
     "end_time": "2021-08-04T07:14:33.016021",
     "exception": false,
     "start_time": "2021-08-04T07:14:32.983217",
     "status": "completed"
    },
    "tags": []
   },
   "outputs": [
    {
     "name": "stdout",
     "output_type": "stream",
     "text": [
      "1\n"
     ]
    },
    {
     "data": {
      "application/javascript": [
       "parent.postMessage({\"jupyterEvent\": \"custom.exercise_interaction\", \"data\": {\"outcomeType\": 1, \"valueTowardsCompletion\": 0.25, \"interactionType\": 1, \"questionType\": 1, \"questionId\": \"4_CandySplitting\", \"learnToolsVersion\": \"0.3.4\", \"failureMessage\": \"\", \"exceptionClass\": \"\", \"trace\": \"\"}}, \"*\")"
      ],
      "text/plain": [
       "<IPython.core.display.Javascript object>"
      ]
     },
     "metadata": {},
     "output_type": "display_data"
    },
    {
     "data": {
      "text/markdown": [
       "<span style=\"color:#33cc33\">Correct</span>"
      ],
      "text/plain": [
       "Correct"
      ]
     },
     "metadata": {},
     "output_type": "display_data"
    }
   ],
   "source": [
    "# Variables representing the number of candies collected by alice, bob, and carol\n",
    "alice_candies = 121\n",
    "bob_candies = 77\n",
    "carol_candies = 109\n",
    "\n",
    "# Your code goes here! Replace the right-hand side of this assignment with an expression\n",
    "# involving alice_candies, bob_candies, and carol_candies\n",
    "split_candies = (alice_candies + bob_candies + carol_candies) % 3\n",
    "to_smash = split_candies\n",
    "print (to_smash)\n",
    "\n",
    "# Check your answer\n",
    "q4.check()"
   ]
  },
  {
   "cell_type": "code",
   "execution_count": 17,
   "id": "e076f54a",
   "metadata": {
    "execution": {
     "iopub.execute_input": "2021-08-04T07:14:33.065104Z",
     "iopub.status.busy": "2021-08-04T07:14:33.064158Z",
     "iopub.status.idle": "2021-08-04T07:14:33.067181Z",
     "shell.execute_reply": "2021-08-04T07:14:33.066705Z"
    },
    "papermill": {
     "duration": 0.028659,
     "end_time": "2021-08-04T07:14:33.067323",
     "exception": false,
     "start_time": "2021-08-04T07:14:33.038664",
     "status": "completed"
    },
    "tags": []
   },
   "outputs": [],
   "source": [
    "#q4.hint()\n",
    "#q4.solution()"
   ]
  },
  {
   "cell_type": "markdown",
   "id": "be0f5437",
   "metadata": {
    "papermill": {
     "duration": 0.021834,
     "end_time": "2021-08-04T07:14:33.111219",
     "exception": false,
     "start_time": "2021-08-04T07:14:33.089385",
     "status": "completed"
    },
    "tags": []
   },
   "source": [
    "# Keep Going\n",
    "\n",
    "Next up, you'll **[learn to write new functions and understand functions others write](https://www.kaggle.com/colinmorris/functions-and-getting-help)**. This will make you at least 10 times more productive as a Python programmer. "
   ]
  },
  {
   "cell_type": "markdown",
   "id": "8dc14cf4",
   "metadata": {
    "papermill": {
     "duration": 0.02172,
     "end_time": "2021-08-04T07:14:33.155115",
     "exception": false,
     "start_time": "2021-08-04T07:14:33.133395",
     "status": "completed"
    },
    "tags": []
   },
   "source": [
    "---\n",
    "\n",
    "\n",
    "\n",
    "\n",
    "*Have questions or comments? Visit the [Learn Discussion forum](https://www.kaggle.com/learn-forum/161283) to chat with other Learners.*"
   ]
  }
 ],
 "metadata": {
  "kernelspec": {
   "display_name": "Python 3",
   "language": "python",
   "name": "python3"
  },
  "language_info": {
   "codemirror_mode": {
    "name": "ipython",
    "version": 3
   },
   "file_extension": ".py",
   "mimetype": "text/x-python",
   "name": "python",
   "nbconvert_exporter": "python",
   "pygments_lexer": "ipython3",
   "version": "3.7.10"
  },
  "papermill": {
   "default_parameters": {},
   "duration": 9.370304,
   "end_time": "2021-08-04T07:14:33.885989",
   "environment_variables": {},
   "exception": null,
   "input_path": "__notebook__.ipynb",
   "output_path": "__notebook__.ipynb",
   "parameters": {},
   "start_time": "2021-08-04T07:14:24.515685",
   "version": "2.3.3"
  }
 },
 "nbformat": 4,
 "nbformat_minor": 5
}
