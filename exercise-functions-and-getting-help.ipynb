{
 "cells": [
  {
   "cell_type": "markdown",
   "id": "a77db177",
   "metadata": {
    "papermill": {
     "duration": 0.015337,
     "end_time": "2021-08-05T09:28:08.031198",
     "exception": false,
     "start_time": "2021-08-05T09:28:08.015861",
     "status": "completed"
    },
    "tags": []
   },
   "source": [
    "**This notebook is an exercise in the [Python](https://www.kaggle.com/learn/python) course.  You can reference the tutorial at [this link](https://www.kaggle.com/colinmorris/functions-and-getting-help).**\n",
    "\n",
    "---\n"
   ]
  },
  {
   "cell_type": "markdown",
   "id": "d776cab7",
   "metadata": {
    "papermill": {
     "duration": 0.015363,
     "end_time": "2021-08-05T09:28:08.062875",
     "exception": false,
     "start_time": "2021-08-05T09:28:08.047512",
     "status": "completed"
    },
    "tags": []
   },
   "source": [
    "Functions are powerful. Try writing some yourself.\n",
    "\n",
    "As before, don't forget to run the setup code below before jumping into question 1."
   ]
  },
  {
   "cell_type": "code",
   "execution_count": 1,
   "id": "07cc8e09",
   "metadata": {
    "_kg_hide-input": true,
    "_kg_hide-output": true,
    "execution": {
     "iopub.execute_input": "2021-08-05T09:28:08.096035Z",
     "iopub.status.busy": "2021-08-05T09:28:08.094735Z",
     "iopub.status.idle": "2021-08-05T09:28:08.250920Z",
     "shell.execute_reply": "2021-08-05T09:28:08.251432Z",
     "shell.execute_reply.started": "2021-08-05T08:40:21.332028Z"
    },
    "papermill": {
     "duration": 0.174446,
     "end_time": "2021-08-05T09:28:08.251734",
     "exception": false,
     "start_time": "2021-08-05T09:28:08.077288",
     "status": "completed"
    },
    "tags": []
   },
   "outputs": [
    {
     "name": "stdout",
     "output_type": "stream",
     "text": [
      "Setup complete.\n"
     ]
    }
   ],
   "source": [
    "# SETUP. You don't need to worry for now about what this code does or how it works.\n",
    "from learntools.core import binder; binder.bind(globals())\n",
    "from learntools.python.ex2 import *\n",
    "print('Setup complete.')"
   ]
  },
  {
   "cell_type": "markdown",
   "id": "55a789be",
   "metadata": {
    "papermill": {
     "duration": 0.014121,
     "end_time": "2021-08-05T09:28:08.281327",
     "exception": false,
     "start_time": "2021-08-05T09:28:08.267206",
     "status": "completed"
    },
    "tags": []
   },
   "source": [
    "# 1.\n",
    "\n",
    "Complete the body of the following function according to its docstring.\n",
    "\n",
    "HINT: Python has a built-in function `round`."
   ]
  },
  {
   "cell_type": "code",
   "execution_count": 2,
   "id": "de49b3fc",
   "metadata": {
    "execution": {
     "iopub.execute_input": "2021-08-05T09:28:08.321864Z",
     "iopub.status.busy": "2021-08-05T09:28:08.321080Z",
     "iopub.status.idle": "2021-08-05T09:28:08.326812Z",
     "shell.execute_reply": "2021-08-05T09:28:08.327289Z",
     "shell.execute_reply.started": "2021-08-05T08:43:25.159232Z"
    },
    "papermill": {
     "duration": 0.030859,
     "end_time": "2021-08-05T09:28:08.327486",
     "exception": false,
     "start_time": "2021-08-05T09:28:08.296627",
     "status": "completed"
    },
    "tags": []
   },
   "outputs": [
    {
     "data": {
      "application/javascript": [
       "parent.postMessage({\"jupyterEvent\": \"custom.exercise_interaction\", \"data\": {\"outcomeType\": 1, \"valueTowardsCompletion\": 0.16666666666666666, \"interactionType\": 1, \"questionType\": 2, \"questionId\": \"1_RoundFunctionProblem\", \"learnToolsVersion\": \"0.3.4\", \"failureMessage\": \"\", \"exceptionClass\": \"\", \"trace\": \"\"}}, \"*\")"
      ],
      "text/plain": [
       "<IPython.core.display.Javascript object>"
      ]
     },
     "metadata": {},
     "output_type": "display_data"
    },
    {
     "data": {
      "text/markdown": [
       "<span style=\"color:#33cc33\">Correct</span>"
      ],
      "text/plain": [
       "Correct"
      ]
     },
     "metadata": {},
     "output_type": "display_data"
    }
   ],
   "source": [
    "def round_to_two_places(num):\n",
    "    \"\"\"Return the given number rounded to two decimal places. \n",
    "    \n",
    "    >>> round_to_two_places(3.14159)\n",
    "    3.14\n",
    "    \"\"\"\n",
    "    # Replace this body with your own code.\n",
    "    # (\"pass\" is a keyword that does literally nothing. We used it as a placeholder\n",
    "    # because after we begin a code block, Python requires at least one line of code)\n",
    "    return round(num , 2)\n",
    "    \n",
    "# Check your answer\n",
    "q1.check()"
   ]
  },
  {
   "cell_type": "code",
   "execution_count": 3,
   "id": "c1a85bdf",
   "metadata": {
    "execution": {
     "iopub.execute_input": "2021-08-05T09:28:08.365309Z",
     "iopub.status.busy": "2021-08-05T09:28:08.364642Z",
     "iopub.status.idle": "2021-08-05T09:28:08.366863Z",
     "shell.execute_reply": "2021-08-05T09:28:08.367330Z",
     "shell.execute_reply.started": "2021-08-05T08:43:33.008434Z"
    },
    "papermill": {
     "duration": 0.023531,
     "end_time": "2021-08-05T09:28:08.367544",
     "exception": false,
     "start_time": "2021-08-05T09:28:08.344013",
     "status": "completed"
    },
    "tags": []
   },
   "outputs": [],
   "source": [
    "# Uncomment the following for a hint\n",
    "#q1.hint()\n",
    "# Or uncomment the following to peek at the solution\n",
    "#q1.solution()"
   ]
  },
  {
   "cell_type": "markdown",
   "id": "83623468",
   "metadata": {
    "papermill": {
     "duration": 0.015789,
     "end_time": "2021-08-05T09:28:08.399158",
     "exception": false,
     "start_time": "2021-08-05T09:28:08.383369",
     "status": "completed"
    },
    "tags": []
   },
   "source": [
    "# 2.\n",
    "The help for `round` says that `ndigits` (the second argument) may be negative.\n",
    "What do you think will happen when it is? Try some examples in the following cell."
   ]
  },
  {
   "cell_type": "code",
   "execution_count": 4,
   "id": "85222e20",
   "metadata": {
    "execution": {
     "iopub.execute_input": "2021-08-05T09:28:08.438873Z",
     "iopub.status.busy": "2021-08-05T09:28:08.438133Z",
     "iopub.status.idle": "2021-08-05T09:28:08.441415Z",
     "shell.execute_reply": "2021-08-05T09:28:08.441909Z",
     "shell.execute_reply.started": "2021-08-05T08:46:29.461066Z"
    },
    "papermill": {
     "duration": 0.025899,
     "end_time": "2021-08-05T09:28:08.442099",
     "exception": false,
     "start_time": "2021-08-05T09:28:08.416200",
     "status": "completed"
    },
    "tags": []
   },
   "outputs": [
    {
     "data": {
      "text/plain": [
       "200.0"
      ]
     },
     "execution_count": 4,
     "metadata": {},
     "output_type": "execute_result"
    }
   ],
   "source": [
    "# Put your test code here\n",
    "def round_off_number(num):\n",
    "    return round (num ,-2)\n",
    "round_off_number(233.555333)\n",
    "   "
   ]
  },
  {
   "cell_type": "markdown",
   "id": "522b911f",
   "metadata": {
    "papermill": {
     "duration": 0.017373,
     "end_time": "2021-08-05T09:28:08.475676",
     "exception": false,
     "start_time": "2021-08-05T09:28:08.458303",
     "status": "completed"
    },
    "tags": []
   },
   "source": [
    "Can you think of a case where this would be useful?  Once you're ready, run the code cell below to see the answer and to receive credit for completing the problem."
   ]
  },
  {
   "cell_type": "code",
   "execution_count": 5,
   "id": "058a376e",
   "metadata": {
    "execution": {
     "iopub.execute_input": "2021-08-05T09:28:08.514739Z",
     "iopub.status.busy": "2021-08-05T09:28:08.513542Z",
     "iopub.status.idle": "2021-08-05T09:28:08.520417Z",
     "shell.execute_reply": "2021-08-05T09:28:08.520958Z",
     "shell.execute_reply.started": "2021-08-05T08:46:38.835381Z"
    },
    "papermill": {
     "duration": 0.027697,
     "end_time": "2021-08-05T09:28:08.521143",
     "exception": false,
     "start_time": "2021-08-05T09:28:08.493446",
     "status": "completed"
    },
    "tags": []
   },
   "outputs": [
    {
     "data": {
      "application/javascript": [
       "parent.postMessage({\"jupyterEvent\": \"custom.exercise_interaction\", \"data\": {\"interactionType\": 3, \"questionType\": 4, \"questionId\": \"2_RoundNdigitsProblem\", \"learnToolsVersion\": \"0.3.4\", \"valueTowardsCompletion\": 0.0, \"failureMessage\": \"\", \"exceptionClass\": \"\", \"trace\": \"\", \"outcomeType\": 4}}, \"*\")"
      ],
      "text/plain": [
       "<IPython.core.display.Javascript object>"
      ]
     },
     "metadata": {},
     "output_type": "display_data"
    },
    {
     "data": {
      "text/markdown": [
       "<span style=\"color:#33cc99\">Solution:</span> As you've seen, `ndigits=-1` rounds to the nearest 10, `ndigits=-2` rounds to the nearest 100 and so on. Where might this be useful? Suppose we're dealing with large numbers:\n",
       "\n",
       "> The area of Finland is 338,424 km²  \n",
       "> The area of Greenland is 2,166,086 km²\n",
       "\n",
       "We probably don't care whether it's really 338,424, or 338,425, or 338,177. All those digits of accuracy are just distracting. We can chop them off by calling `round()` with `ndigits=-3`:\n",
       "\n",
       "> The area of Finland is 338,000 km²  \n",
       "> The area of Greenland is 2,166,000 km²\n",
       "\n",
       "(We'll talk about how we would get the commas later when we talk about string formatting :))\n"
      ],
      "text/plain": [
       "Solution: As you've seen, `ndigits=-1` rounds to the nearest 10, `ndigits=-2` rounds to the nearest 100 and so on. Where might this be useful? Suppose we're dealing with large numbers:\n",
       "\n",
       "> The area of Finland is 338,424 km²  \n",
       "> The area of Greenland is 2,166,086 km²\n",
       "\n",
       "We probably don't care whether it's really 338,424, or 338,425, or 338,177. All those digits of accuracy are just distracting. We can chop them off by calling `round()` with `ndigits=-3`:\n",
       "\n",
       "> The area of Finland is 338,000 km²  \n",
       "> The area of Greenland is 2,166,000 km²\n",
       "\n",
       "(We'll talk about how we would get the commas later when we talk about string formatting :))"
      ]
     },
     "metadata": {},
     "output_type": "display_data"
    }
   ],
   "source": [
    "# Check your answer (Run this code cell to receive credit!)\n",
    "q2.solution()"
   ]
  },
  {
   "cell_type": "markdown",
   "id": "9bdfc40a",
   "metadata": {
    "papermill": {
     "duration": 0.018024,
     "end_time": "2021-08-05T09:28:08.558213",
     "exception": false,
     "start_time": "2021-08-05T09:28:08.540189",
     "status": "completed"
    },
    "tags": []
   },
   "source": [
    "# 3.\n",
    "\n",
    "In the previous exercise, the candy-sharing friends Alice, Bob and Carol tried to split candies evenly. For the sake of their friendship, any candies left over would be smashed. For example, if they collectively bring home 91 candies, they'll take 30 each and smash 1.\n",
    "\n",
    "Below is a simple function that will calculate the number of candies to smash for *any* number of total candies.\n",
    "\n",
    "Modify it so that it optionally takes a second argument representing the number of friends the candies are being split between. If no second argument is provided, it should assume 3 friends, as before.\n",
    "\n",
    "Update the docstring to reflect this new behaviour."
   ]
  },
  {
   "cell_type": "code",
   "execution_count": 6,
   "id": "71be2a65",
   "metadata": {
    "execution": {
     "iopub.execute_input": "2021-08-05T09:28:08.601242Z",
     "iopub.status.busy": "2021-08-05T09:28:08.600456Z",
     "iopub.status.idle": "2021-08-05T09:28:08.607102Z",
     "shell.execute_reply": "2021-08-05T09:28:08.606521Z",
     "shell.execute_reply.started": "2021-08-05T08:54:55.036927Z"
    },
    "papermill": {
     "duration": 0.030303,
     "end_time": "2021-08-05T09:28:08.607248",
     "exception": false,
     "start_time": "2021-08-05T09:28:08.576945",
     "status": "completed"
    },
    "tags": []
   },
   "outputs": [
    {
     "data": {
      "application/javascript": [
       "parent.postMessage({\"jupyterEvent\": \"custom.exercise_interaction\", \"data\": {\"outcomeType\": 1, \"valueTowardsCompletion\": 0.16666666666666666, \"interactionType\": 1, \"questionType\": 2, \"questionId\": \"3_CandySmashingFunctionProblem\", \"learnToolsVersion\": \"0.3.4\", \"failureMessage\": \"\", \"exceptionClass\": \"\", \"trace\": \"\"}}, \"*\")"
      ],
      "text/plain": [
       "<IPython.core.display.Javascript object>"
      ]
     },
     "metadata": {},
     "output_type": "display_data"
    },
    {
     "data": {
      "text/markdown": [
       "<span style=\"color:#33cc33\">Correct</span>"
      ],
      "text/plain": [
       "Correct"
      ]
     },
     "metadata": {},
     "output_type": "display_data"
    }
   ],
   "source": [
    "def to_smash(total_candies,no_friends = 3):\n",
    "    \"\"\"Return the number of leftover candies that must be smashed after distributing\n",
    "    the given number of candies evenly between 3 friends.\n",
    "    \n",
    "    >>> to_smash(91)\n",
    "    1\n",
    "    \"\"\"\n",
    "    return total_candies % no_friends\n",
    "to_smash(122,2)\n",
    "    \n",
    "\n",
    "# Check your answer\n",
    "q3.check()"
   ]
  },
  {
   "cell_type": "code",
   "execution_count": 7,
   "id": "db60fab9",
   "metadata": {
    "execution": {
     "iopub.execute_input": "2021-08-05T09:28:08.649790Z",
     "iopub.status.busy": "2021-08-05T09:28:08.649036Z",
     "iopub.status.idle": "2021-08-05T09:28:08.652538Z",
     "shell.execute_reply": "2021-08-05T09:28:08.651873Z"
    },
    "papermill": {
     "duration": 0.026948,
     "end_time": "2021-08-05T09:28:08.652682",
     "exception": false,
     "start_time": "2021-08-05T09:28:08.625734",
     "status": "completed"
    },
    "tags": []
   },
   "outputs": [],
   "source": [
    "#q3.hint()"
   ]
  },
  {
   "cell_type": "code",
   "execution_count": 8,
   "id": "41afa9d4",
   "metadata": {
    "execution": {
     "iopub.execute_input": "2021-08-05T09:28:08.696033Z",
     "iopub.status.busy": "2021-08-05T09:28:08.695320Z",
     "iopub.status.idle": "2021-08-05T09:28:08.698900Z",
     "shell.execute_reply": "2021-08-05T09:28:08.698354Z",
     "shell.execute_reply.started": "2021-08-05T08:54:39.706050Z"
    },
    "papermill": {
     "duration": 0.027264,
     "end_time": "2021-08-05T09:28:08.699052",
     "exception": false,
     "start_time": "2021-08-05T09:28:08.671788",
     "status": "completed"
    },
    "tags": []
   },
   "outputs": [],
   "source": [
    "#q3.solution()"
   ]
  },
  {
   "cell_type": "markdown",
   "id": "e085aa73",
   "metadata": {
    "papermill": {
     "duration": 0.017571,
     "end_time": "2021-08-05T09:28:08.735805",
     "exception": false,
     "start_time": "2021-08-05T09:28:08.718234",
     "status": "completed"
    },
    "tags": []
   },
   "source": [
    "# 4. (Optional)\n",
    "\n",
    "It may not be fun, but reading and understanding error messages will be an important part of your Python career.\n",
    "\n",
    "Each code cell below contains some commented buggy code. For each cell...\n",
    "\n",
    "1. Read the code and predict what you think will happen when it's run.\n",
    "2. Then uncomment the code and run it to see what happens. (**Tip**: In the kernel editor, you can highlight several lines and press `ctrl`+`/` to toggle commenting.)\n",
    "3. Fix the code (so that it accomplishes its intended purpose without throwing an exception)\n",
    "\n",
    "<!-- TODO: should this be autochecked? Delta is probably pretty small. -->"
   ]
  },
  {
   "cell_type": "code",
   "execution_count": 9,
   "id": "90f13317",
   "metadata": {
    "execution": {
     "iopub.execute_input": "2021-08-05T09:28:08.779048Z",
     "iopub.status.busy": "2021-08-05T09:28:08.778027Z",
     "iopub.status.idle": "2021-08-05T09:28:08.782729Z",
     "shell.execute_reply": "2021-08-05T09:28:08.782172Z",
     "shell.execute_reply.started": "2021-08-05T08:56:57.809878Z"
    },
    "papermill": {
     "duration": 0.029152,
     "end_time": "2021-08-05T09:28:08.782879",
     "exception": false,
     "start_time": "2021-08-05T09:28:08.753727",
     "status": "completed"
    },
    "tags": []
   },
   "outputs": [
    {
     "data": {
      "text/plain": [
       "10.0"
      ]
     },
     "execution_count": 9,
     "metadata": {},
     "output_type": "execute_result"
    }
   ],
   "source": [
    "def ruound_to_two_places(num):\n",
    "    return round(num,2)\n",
    "round_to_two_places(9.9999)"
   ]
  },
  {
   "cell_type": "code",
   "execution_count": 10,
   "id": "bc85eecf",
   "metadata": {
    "execution": {
     "iopub.execute_input": "2021-08-05T09:28:08.827297Z",
     "iopub.status.busy": "2021-08-05T09:28:08.826321Z",
     "iopub.status.idle": "2021-08-05T09:28:08.831374Z",
     "shell.execute_reply": "2021-08-05T09:28:08.830203Z",
     "shell.execute_reply.started": "2021-08-05T08:58:19.951201Z"
    },
    "papermill": {
     "duration": 0.029583,
     "end_time": "2021-08-05T09:28:08.831611",
     "exception": false,
     "start_time": "2021-08-05T09:28:08.802028",
     "status": "completed"
    },
    "tags": []
   },
   "outputs": [
    {
     "name": "stdout",
     "output_type": "stream",
     "text": [
      "-10\n"
     ]
    }
   ],
   "source": [
    "x = -10\n",
    "y = 5\n",
    "# # Which of the two variables above has the smallest absolute value?\n",
    "smallest_abs = min(x, y)\n",
    "print(smallest_abs)"
   ]
  },
  {
   "cell_type": "code",
   "execution_count": 11,
   "id": "ec27d7f6",
   "metadata": {
    "execution": {
     "iopub.execute_input": "2021-08-05T09:28:08.877374Z",
     "iopub.status.busy": "2021-08-05T09:28:08.876598Z",
     "iopub.status.idle": "2021-08-05T09:28:08.880647Z",
     "shell.execute_reply": "2021-08-05T09:28:08.880008Z"
    },
    "papermill": {
     "duration": 0.028298,
     "end_time": "2021-08-05T09:28:08.880790",
     "exception": false,
     "start_time": "2021-08-05T09:28:08.852492",
     "status": "completed"
    },
    "tags": []
   },
   "outputs": [
    {
     "name": "stdout",
     "output_type": "stream",
     "text": [
      "5\n"
     ]
    }
   ],
   "source": [
    "def f(x):\n",
    "    y = abs(x)\n",
    "    return y\n",
    "\n",
    "print(f(5))"
   ]
  },
  {
   "cell_type": "markdown",
   "id": "d3616058",
   "metadata": {
    "papermill": {
     "duration": 0.018569,
     "end_time": "2021-08-05T09:28:08.919409",
     "exception": false,
     "start_time": "2021-08-05T09:28:08.900840",
     "status": "completed"
    },
    "tags": []
   },
   "source": [
    "# Keep Going\n",
    "\n",
    "Nice job with the code. Next up, you'll learn about *conditionals*, which you'll need to **[write interesting programs](https://www.kaggle.com/colinmorris/booleans-and-conditionals)**. "
   ]
  },
  {
   "cell_type": "markdown",
   "id": "902c3e63",
   "metadata": {
    "papermill": {
     "duration": 0.018624,
     "end_time": "2021-08-05T09:28:08.956979",
     "exception": false,
     "start_time": "2021-08-05T09:28:08.938355",
     "status": "completed"
    },
    "tags": []
   },
   "source": [
    "---\n",
    "\n",
    "\n",
    "\n",
    "\n",
    "*Have questions or comments? Visit the [Learn Discussion forum](https://www.kaggle.com/learn-forum/161283) to chat with other Learners.*"
   ]
  }
 ],
 "metadata": {
  "kernelspec": {
   "display_name": "Python 3",
   "language": "python",
   "name": "python3"
  },
  "language_info": {
   "codemirror_mode": {
    "name": "ipython",
    "version": 3
   },
   "file_extension": ".py",
   "mimetype": "text/x-python",
   "name": "python",
   "nbconvert_exporter": "python",
   "pygments_lexer": "ipython3",
   "version": "3.7.10"
  },
  "papermill": {
   "default_parameters": {},
   "duration": 11.942594,
   "end_time": "2021-08-05T09:28:10.476947",
   "environment_variables": {},
   "exception": null,
   "input_path": "__notebook__.ipynb",
   "output_path": "__notebook__.ipynb",
   "parameters": {},
   "start_time": "2021-08-05T09:27:58.534353",
   "version": "2.3.3"
  }
 },
 "nbformat": 4,
 "nbformat_minor": 5
}
